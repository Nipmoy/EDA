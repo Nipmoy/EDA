{
  "nbformat": 4,
  "nbformat_minor": 0,
  "metadata": {
    "colab": {
      "provenance": []
    },
    "kernelspec": {
      "name": "python3",
      "display_name": "Python 3"
    },
    "language_info": {
      "name": "python"
    }
  },
  "cells": [
    {
      "cell_type": "code",
      "execution_count": null,
      "metadata": {
        "id": "dsyi90-ikjjv"
      },
      "outputs": [],
      "source": [
        "#install Kaggle\n",
        "!pip install -q kaggle"
      ]
    },
    {
      "cell_type": "code",
      "source": [
        "from google.colab import files\n",
        "files.upload()\n"
      ],
      "metadata": {
        "colab": {
          "base_uri": "https://localhost:8080/",
          "height": 90
        },
        "id": "Qrk0iNE8kqk4",
        "outputId": "81d5f524-bd43-49ed-a572-83157770b1ad"
      },
      "execution_count": null,
      "outputs": [
        {
          "output_type": "display_data",
          "data": {
            "text/plain": [
              "<IPython.core.display.HTML object>"
            ],
            "text/html": [
              "\n",
              "     <input type=\"file\" id=\"files-390b10fb-6e6d-4f75-a97a-78e6caffedd1\" name=\"files[]\" multiple disabled\n",
              "        style=\"border:none\" />\n",
              "     <output id=\"result-390b10fb-6e6d-4f75-a97a-78e6caffedd1\">\n",
              "      Upload widget is only available when the cell has been executed in the\n",
              "      current browser session. Please rerun this cell to enable.\n",
              "      </output>\n",
              "      <script>// Copyright 2017 Google LLC\n",
              "//\n",
              "// Licensed under the Apache License, Version 2.0 (the \"License\");\n",
              "// you may not use this file except in compliance with the License.\n",
              "// You may obtain a copy of the License at\n",
              "//\n",
              "//      http://www.apache.org/licenses/LICENSE-2.0\n",
              "//\n",
              "// Unless required by applicable law or agreed to in writing, software\n",
              "// distributed under the License is distributed on an \"AS IS\" BASIS,\n",
              "// WITHOUT WARRANTIES OR CONDITIONS OF ANY KIND, either express or implied.\n",
              "// See the License for the specific language governing permissions and\n",
              "// limitations under the License.\n",
              "\n",
              "/**\n",
              " * @fileoverview Helpers for google.colab Python module.\n",
              " */\n",
              "(function(scope) {\n",
              "function span(text, styleAttributes = {}) {\n",
              "  const element = document.createElement('span');\n",
              "  element.textContent = text;\n",
              "  for (const key of Object.keys(styleAttributes)) {\n",
              "    element.style[key] = styleAttributes[key];\n",
              "  }\n",
              "  return element;\n",
              "}\n",
              "\n",
              "// Max number of bytes which will be uploaded at a time.\n",
              "const MAX_PAYLOAD_SIZE = 100 * 1024;\n",
              "\n",
              "function _uploadFiles(inputId, outputId) {\n",
              "  const steps = uploadFilesStep(inputId, outputId);\n",
              "  const outputElement = document.getElementById(outputId);\n",
              "  // Cache steps on the outputElement to make it available for the next call\n",
              "  // to uploadFilesContinue from Python.\n",
              "  outputElement.steps = steps;\n",
              "\n",
              "  return _uploadFilesContinue(outputId);\n",
              "}\n",
              "\n",
              "// This is roughly an async generator (not supported in the browser yet),\n",
              "// where there are multiple asynchronous steps and the Python side is going\n",
              "// to poll for completion of each step.\n",
              "// This uses a Promise to block the python side on completion of each step,\n",
              "// then passes the result of the previous step as the input to the next step.\n",
              "function _uploadFilesContinue(outputId) {\n",
              "  const outputElement = document.getElementById(outputId);\n",
              "  const steps = outputElement.steps;\n",
              "\n",
              "  const next = steps.next(outputElement.lastPromiseValue);\n",
              "  return Promise.resolve(next.value.promise).then((value) => {\n",
              "    // Cache the last promise value to make it available to the next\n",
              "    // step of the generator.\n",
              "    outputElement.lastPromiseValue = value;\n",
              "    return next.value.response;\n",
              "  });\n",
              "}\n",
              "\n",
              "/**\n",
              " * Generator function which is called between each async step of the upload\n",
              " * process.\n",
              " * @param {string} inputId Element ID of the input file picker element.\n",
              " * @param {string} outputId Element ID of the output display.\n",
              " * @return {!Iterable<!Object>} Iterable of next steps.\n",
              " */\n",
              "function* uploadFilesStep(inputId, outputId) {\n",
              "  const inputElement = document.getElementById(inputId);\n",
              "  inputElement.disabled = false;\n",
              "\n",
              "  const outputElement = document.getElementById(outputId);\n",
              "  outputElement.innerHTML = '';\n",
              "\n",
              "  const pickedPromise = new Promise((resolve) => {\n",
              "    inputElement.addEventListener('change', (e) => {\n",
              "      resolve(e.target.files);\n",
              "    });\n",
              "  });\n",
              "\n",
              "  const cancel = document.createElement('button');\n",
              "  inputElement.parentElement.appendChild(cancel);\n",
              "  cancel.textContent = 'Cancel upload';\n",
              "  const cancelPromise = new Promise((resolve) => {\n",
              "    cancel.onclick = () => {\n",
              "      resolve(null);\n",
              "    };\n",
              "  });\n",
              "\n",
              "  // Wait for the user to pick the files.\n",
              "  const files = yield {\n",
              "    promise: Promise.race([pickedPromise, cancelPromise]),\n",
              "    response: {\n",
              "      action: 'starting',\n",
              "    }\n",
              "  };\n",
              "\n",
              "  cancel.remove();\n",
              "\n",
              "  // Disable the input element since further picks are not allowed.\n",
              "  inputElement.disabled = true;\n",
              "\n",
              "  if (!files) {\n",
              "    return {\n",
              "      response: {\n",
              "        action: 'complete',\n",
              "      }\n",
              "    };\n",
              "  }\n",
              "\n",
              "  for (const file of files) {\n",
              "    const li = document.createElement('li');\n",
              "    li.append(span(file.name, {fontWeight: 'bold'}));\n",
              "    li.append(span(\n",
              "        `(${file.type || 'n/a'}) - ${file.size} bytes, ` +\n",
              "        `last modified: ${\n",
              "            file.lastModifiedDate ? file.lastModifiedDate.toLocaleDateString() :\n",
              "                                    'n/a'} - `));\n",
              "    const percent = span('0% done');\n",
              "    li.appendChild(percent);\n",
              "\n",
              "    outputElement.appendChild(li);\n",
              "\n",
              "    const fileDataPromise = new Promise((resolve) => {\n",
              "      const reader = new FileReader();\n",
              "      reader.onload = (e) => {\n",
              "        resolve(e.target.result);\n",
              "      };\n",
              "      reader.readAsArrayBuffer(file);\n",
              "    });\n",
              "    // Wait for the data to be ready.\n",
              "    let fileData = yield {\n",
              "      promise: fileDataPromise,\n",
              "      response: {\n",
              "        action: 'continue',\n",
              "      }\n",
              "    };\n",
              "\n",
              "    // Use a chunked sending to avoid message size limits. See b/62115660.\n",
              "    let position = 0;\n",
              "    do {\n",
              "      const length = Math.min(fileData.byteLength - position, MAX_PAYLOAD_SIZE);\n",
              "      const chunk = new Uint8Array(fileData, position, length);\n",
              "      position += length;\n",
              "\n",
              "      const base64 = btoa(String.fromCharCode.apply(null, chunk));\n",
              "      yield {\n",
              "        response: {\n",
              "          action: 'append',\n",
              "          file: file.name,\n",
              "          data: base64,\n",
              "        },\n",
              "      };\n",
              "\n",
              "      let percentDone = fileData.byteLength === 0 ?\n",
              "          100 :\n",
              "          Math.round((position / fileData.byteLength) * 100);\n",
              "      percent.textContent = `${percentDone}% done`;\n",
              "\n",
              "    } while (position < fileData.byteLength);\n",
              "  }\n",
              "\n",
              "  // All done.\n",
              "  yield {\n",
              "    response: {\n",
              "      action: 'complete',\n",
              "    }\n",
              "  };\n",
              "}\n",
              "\n",
              "scope.google = scope.google || {};\n",
              "scope.google.colab = scope.google.colab || {};\n",
              "scope.google.colab._files = {\n",
              "  _uploadFiles,\n",
              "  _uploadFilesContinue,\n",
              "};\n",
              "})(self);\n",
              "</script> "
            ]
          },
          "metadata": {}
        },
        {
          "output_type": "stream",
          "name": "stdout",
          "text": [
            "Saving kaggle (1).json to kaggle (1).json\n"
          ]
        },
        {
          "output_type": "execute_result",
          "data": {
            "text/plain": [
              "{'kaggle (1).json': b'{\"username\":\"xewton\",\"key\":\"997e3554c500cb184d233208000e7273\"}'}"
            ]
          },
          "metadata": {},
          "execution_count": 35
        }
      ]
    },
    {
      "cell_type": "code",
      "source": [
        "!mv \"kaggle (1).json\" kaggle.json\n"
      ],
      "metadata": {
        "id": "dwoHcl4IgIyd"
      },
      "execution_count": null,
      "outputs": []
    },
    {
      "cell_type": "code",
      "source": [
        "!mkdir -p ~/.kaggle\n",
        "!cp kaggle.json ~/.kaggle/\n",
        "!chmod 600 ~/.kaggle/kaggle.json\n"
      ],
      "metadata": {
        "id": "ckLB4weiksGx"
      },
      "execution_count": null,
      "outputs": []
    },
    {
      "cell_type": "code",
      "source": [
        "!kaggle datasets list"
      ],
      "metadata": {
        "colab": {
          "base_uri": "https://localhost:8080/"
        },
        "id": "jd3KL6CqktoX",
        "outputId": "a1d86239-6453-41bb-8471-77b870bcc0b9"
      },
      "execution_count": null,
      "outputs": [
        {
          "output_type": "stream",
          "name": "stdout",
          "text": [
            "ref                                                            title                                                     size  lastUpdated                 downloadCount  voteCount  usabilityRating  \n",
            "-------------------------------------------------------------  --------------------------------------------------  ----------  --------------------------  -------------  ---------  ---------------  \n",
            "atharvasoundankar/chocolate-sales                              Chocolate Sales Data 📊🍫                                  14473  2025-03-19 03:51:40.270000          10117        176  1.0              \n",
            "abdulmalik1518/mobiles-dataset-2025                            Mobiles Dataset (2025)                                   20314  2025-02-18 06:50:24.370000          16302        279  1.0              \n",
            "zahidmughal2343/employee-data                                  Employee Data                                           379143  2025-03-08 19:36:42.953000           1327         25  1.0              \n",
            "adilshamim8/student-depression-dataset                         Student Depression Dataset                              467020  2025-03-13 03:12:30.423000           2839         53  1.0              \n",
            "atharvasoundankar/global-cybersecurity-threats-2015-2024       🌐 Global Cybersecurity Threats (2015-2024)               48178  2025-03-16 04:23:13.343000            913         26  1.0              \n",
            "mahmoudelhemaly/students-grading-dataset                       Student Performance & Behavior Dataset                  520428  2025-02-17 17:38:46.653000          11559        182  1.0              \n",
            "bhargavchirumamilla/netflix-movies-and-tv-shows-till-2025      Netflix Movies and TV shows till 2025                  6471169  2025-03-04 01:06:12.240000           1848         30  1.0              \n",
            "amanrajput16/used-car-price-data-from-cars24                   Used Cars Market Analysis:Scraped Data from Cars24       22591  2025-03-08 11:40:03.327000           1132         23  1.0              \n",
            "abdulmoiz12/amazon-stock-data-2025                             Amazon Stock Data 2025                                  160519  2025-03-01 09:08:07.890000           1449         29  1.0              \n",
            "ricgomes/global-fashion-retail-stores-dataset                  Global Fashion Retail Sales                          234910599  2025-03-19 18:37:15.857000           1681         28  1.0              \n",
            "ankushpanday2/heart-attack-prediction-in-indonesia             Heart Attack Prediction in Indonesia                   5398776  2025-03-11 15:19:28.123000            837         25  1.0              \n",
            "shohinurpervezshohan/freelancer-earnings-and-job-trends        Freelancer Earnings & Job Trends                         52906  2025-03-08 07:21:46.633000           1317         29  0.9411765        \n",
            "smayanj/netflix-users-database                                 Netflix Users Database                                  362559  2025-03-08 12:08:09.403000           2210         50  1.0              \n",
            "atharvasoundankar/global-food-wastage-dataset-2018-2024        🌍 Global Food Wastage Dataset (2018-2024) 🍽️            108611  2025-03-12 04:51:27.083000           1379         26  1.0              \n",
            "aradhanahirapara/income-survey-finance-analysis                Income Survey | Finance Analysis                       1826775  2025-03-20 19:53:01.633000           1043         24  0.7647059        \n",
            "willianoliveiragibin/grocery-inventory                         Grocery Inventory                                        50801  2025-03-16 21:03:55.307000           1010         28  1.0              \n",
            "mahatiratusher/flight-price-dataset-of-bangladesh              Flight Price Dataset of Bangladesh                     3506315  2025-03-04 04:08:49.600000           1049         23  0.9411765        \n",
            "aniruddhawankhede/mental-heath-analysis-among-teenagers        Mental_Heath_Analysis_Among_Teenagers                   177089  2025-03-10 12:17:22.827000           1933         34  1.0              \n",
            "maicolab/university-admission                                  Student performance on the entrance exam                376010  2025-03-02 17:13:46.457000            776         23  1.0              \n",
            "parsabahramsari/wdi-education-health-and-employment-2011-2021  WDI: Education, Health & Employment (2011-2021)         136185  2025-03-07 08:29:38.617000           1143         30  1.0              \n"
          ]
        }
      ]
    },
    {
      "cell_type": "code",
      "source": [
        "!kaggle datasets download -d prasad22/weather-data\n"
      ],
      "metadata": {
        "colab": {
          "base_uri": "https://localhost:8080/"
        },
        "id": "4JJ44qZcyW3H",
        "outputId": "dc69eed3-f3ed-4595-ee81-9a23283fc89c"
      },
      "execution_count": null,
      "outputs": [
        {
          "output_type": "stream",
          "name": "stdout",
          "text": [
            "Dataset URL: https://www.kaggle.com/datasets/prasad22/weather-data\n",
            "License(s): CC0-1.0\n",
            "weather-data.zip: Skipping, found more recently modified local copy (use --force to force download)\n"
          ]
        }
      ]
    },
    {
      "cell_type": "code",
      "source": [
        "!ls"
      ],
      "metadata": {
        "colab": {
          "base_uri": "https://localhost:8080/"
        },
        "id": "18_R92UBygDL",
        "outputId": "0f0c62e5-3f93-4618-88c4-d44d3064aecf"
      },
      "execution_count": null,
      "outputs": [
        {
          "output_type": "stream",
          "name": "stdout",
          "text": [
            "kaggle.json  sample_data  weather_data.csv  weather-data.zip\n"
          ]
        }
      ]
    },
    {
      "cell_type": "code",
      "source": [
        "!unzip weather-data.zip"
      ],
      "metadata": {
        "colab": {
          "base_uri": "https://localhost:8080/"
        },
        "id": "-4ANVY8cyjyl",
        "outputId": "757ec431-ea98-46bd-db1a-ad4677c77dae"
      },
      "execution_count": null,
      "outputs": [
        {
          "output_type": "stream",
          "name": "stdout",
          "text": [
            "Archive:  weather-data.zip\n",
            "replace weather_data.csv? [y]es, [n]o, [A]ll, [N]one, [r]ename: n\n"
          ]
        }
      ]
    },
    {
      "cell_type": "code",
      "source": [
        "import pandas as pd\n",
        "\n",
        "file_path = \"weather-data/weather_data.csv\"  # Adjust based on actual file location\n",
        "df = pd.read_csv(\"/content/weather_data.csv\")\n",
        "df.head()"
      ],
      "metadata": {
        "colab": {
          "base_uri": "https://localhost:8080/",
          "height": 206
        },
        "id": "XrtLHBqIynhJ",
        "outputId": "d571bd8a-9270-4b51-ab83-2bad9fe071d5"
      },
      "execution_count": null,
      "outputs": [
        {
          "output_type": "execute_result",
          "data": {
            "text/plain": [
              "       Location            Date_Time  Temperature_C  Humidity_pct  \\\n",
              "0     San Diego  2024-01-14 21:12:46      10.683001     41.195754   \n",
              "1     San Diego  2024-05-17 15:22:10       8.734140     58.319107   \n",
              "2     San Diego  2024-05-11 09:30:59      11.632436     38.820175   \n",
              "3  Philadelphia  2024-02-26 17:32:39      -8.628976     54.074474   \n",
              "4   San Antonio  2024-04-29 13:23:51      39.808213     72.899908   \n",
              "\n",
              "   Precipitation_mm  Wind_Speed_kmh  \n",
              "0          4.020119        8.233540  \n",
              "1          9.111623       27.715161  \n",
              "2          4.607511       28.732951  \n",
              "3          3.183720       26.367303  \n",
              "4          9.598282       29.898622  "
            ],
            "text/html": [
              "\n",
              "  <div id=\"df-102ada7a-b83e-40a7-84d1-46c6d82cc5d0\" class=\"colab-df-container\">\n",
              "    <div>\n",
              "<style scoped>\n",
              "    .dataframe tbody tr th:only-of-type {\n",
              "        vertical-align: middle;\n",
              "    }\n",
              "\n",
              "    .dataframe tbody tr th {\n",
              "        vertical-align: top;\n",
              "    }\n",
              "\n",
              "    .dataframe thead th {\n",
              "        text-align: right;\n",
              "    }\n",
              "</style>\n",
              "<table border=\"1\" class=\"dataframe\">\n",
              "  <thead>\n",
              "    <tr style=\"text-align: right;\">\n",
              "      <th></th>\n",
              "      <th>Location</th>\n",
              "      <th>Date_Time</th>\n",
              "      <th>Temperature_C</th>\n",
              "      <th>Humidity_pct</th>\n",
              "      <th>Precipitation_mm</th>\n",
              "      <th>Wind_Speed_kmh</th>\n",
              "    </tr>\n",
              "  </thead>\n",
              "  <tbody>\n",
              "    <tr>\n",
              "      <th>0</th>\n",
              "      <td>San Diego</td>\n",
              "      <td>2024-01-14 21:12:46</td>\n",
              "      <td>10.683001</td>\n",
              "      <td>41.195754</td>\n",
              "      <td>4.020119</td>\n",
              "      <td>8.233540</td>\n",
              "    </tr>\n",
              "    <tr>\n",
              "      <th>1</th>\n",
              "      <td>San Diego</td>\n",
              "      <td>2024-05-17 15:22:10</td>\n",
              "      <td>8.734140</td>\n",
              "      <td>58.319107</td>\n",
              "      <td>9.111623</td>\n",
              "      <td>27.715161</td>\n",
              "    </tr>\n",
              "    <tr>\n",
              "      <th>2</th>\n",
              "      <td>San Diego</td>\n",
              "      <td>2024-05-11 09:30:59</td>\n",
              "      <td>11.632436</td>\n",
              "      <td>38.820175</td>\n",
              "      <td>4.607511</td>\n",
              "      <td>28.732951</td>\n",
              "    </tr>\n",
              "    <tr>\n",
              "      <th>3</th>\n",
              "      <td>Philadelphia</td>\n",
              "      <td>2024-02-26 17:32:39</td>\n",
              "      <td>-8.628976</td>\n",
              "      <td>54.074474</td>\n",
              "      <td>3.183720</td>\n",
              "      <td>26.367303</td>\n",
              "    </tr>\n",
              "    <tr>\n",
              "      <th>4</th>\n",
              "      <td>San Antonio</td>\n",
              "      <td>2024-04-29 13:23:51</td>\n",
              "      <td>39.808213</td>\n",
              "      <td>72.899908</td>\n",
              "      <td>9.598282</td>\n",
              "      <td>29.898622</td>\n",
              "    </tr>\n",
              "  </tbody>\n",
              "</table>\n",
              "</div>\n",
              "    <div class=\"colab-df-buttons\">\n",
              "\n",
              "  <div class=\"colab-df-container\">\n",
              "    <button class=\"colab-df-convert\" onclick=\"convertToInteractive('df-102ada7a-b83e-40a7-84d1-46c6d82cc5d0')\"\n",
              "            title=\"Convert this dataframe to an interactive table.\"\n",
              "            style=\"display:none;\">\n",
              "\n",
              "  <svg xmlns=\"http://www.w3.org/2000/svg\" height=\"24px\" viewBox=\"0 -960 960 960\">\n",
              "    <path d=\"M120-120v-720h720v720H120Zm60-500h600v-160H180v160Zm220 220h160v-160H400v160Zm0 220h160v-160H400v160ZM180-400h160v-160H180v160Zm440 0h160v-160H620v160ZM180-180h160v-160H180v160Zm440 0h160v-160H620v160Z\"/>\n",
              "  </svg>\n",
              "    </button>\n",
              "\n",
              "  <style>\n",
              "    .colab-df-container {\n",
              "      display:flex;\n",
              "      gap: 12px;\n",
              "    }\n",
              "\n",
              "    .colab-df-convert {\n",
              "      background-color: #E8F0FE;\n",
              "      border: none;\n",
              "      border-radius: 50%;\n",
              "      cursor: pointer;\n",
              "      display: none;\n",
              "      fill: #1967D2;\n",
              "      height: 32px;\n",
              "      padding: 0 0 0 0;\n",
              "      width: 32px;\n",
              "    }\n",
              "\n",
              "    .colab-df-convert:hover {\n",
              "      background-color: #E2EBFA;\n",
              "      box-shadow: 0px 1px 2px rgba(60, 64, 67, 0.3), 0px 1px 3px 1px rgba(60, 64, 67, 0.15);\n",
              "      fill: #174EA6;\n",
              "    }\n",
              "\n",
              "    .colab-df-buttons div {\n",
              "      margin-bottom: 4px;\n",
              "    }\n",
              "\n",
              "    [theme=dark] .colab-df-convert {\n",
              "      background-color: #3B4455;\n",
              "      fill: #D2E3FC;\n",
              "    }\n",
              "\n",
              "    [theme=dark] .colab-df-convert:hover {\n",
              "      background-color: #434B5C;\n",
              "      box-shadow: 0px 1px 3px 1px rgba(0, 0, 0, 0.15);\n",
              "      filter: drop-shadow(0px 1px 2px rgba(0, 0, 0, 0.3));\n",
              "      fill: #FFFFFF;\n",
              "    }\n",
              "  </style>\n",
              "\n",
              "    <script>\n",
              "      const buttonEl =\n",
              "        document.querySelector('#df-102ada7a-b83e-40a7-84d1-46c6d82cc5d0 button.colab-df-convert');\n",
              "      buttonEl.style.display =\n",
              "        google.colab.kernel.accessAllowed ? 'block' : 'none';\n",
              "\n",
              "      async function convertToInteractive(key) {\n",
              "        const element = document.querySelector('#df-102ada7a-b83e-40a7-84d1-46c6d82cc5d0');\n",
              "        const dataTable =\n",
              "          await google.colab.kernel.invokeFunction('convertToInteractive',\n",
              "                                                    [key], {});\n",
              "        if (!dataTable) return;\n",
              "\n",
              "        const docLinkHtml = 'Like what you see? Visit the ' +\n",
              "          '<a target=\"_blank\" href=https://colab.research.google.com/notebooks/data_table.ipynb>data table notebook</a>'\n",
              "          + ' to learn more about interactive tables.';\n",
              "        element.innerHTML = '';\n",
              "        dataTable['output_type'] = 'display_data';\n",
              "        await google.colab.output.renderOutput(dataTable, element);\n",
              "        const docLink = document.createElement('div');\n",
              "        docLink.innerHTML = docLinkHtml;\n",
              "        element.appendChild(docLink);\n",
              "      }\n",
              "    </script>\n",
              "  </div>\n",
              "\n",
              "\n",
              "<div id=\"df-c988b1c4-918a-44df-b012-5a771bec2446\">\n",
              "  <button class=\"colab-df-quickchart\" onclick=\"quickchart('df-c988b1c4-918a-44df-b012-5a771bec2446')\"\n",
              "            title=\"Suggest charts\"\n",
              "            style=\"display:none;\">\n",
              "\n",
              "<svg xmlns=\"http://www.w3.org/2000/svg\" height=\"24px\"viewBox=\"0 0 24 24\"\n",
              "     width=\"24px\">\n",
              "    <g>\n",
              "        <path d=\"M19 3H5c-1.1 0-2 .9-2 2v14c0 1.1.9 2 2 2h14c1.1 0 2-.9 2-2V5c0-1.1-.9-2-2-2zM9 17H7v-7h2v7zm4 0h-2V7h2v10zm4 0h-2v-4h2v4z\"/>\n",
              "    </g>\n",
              "</svg>\n",
              "  </button>\n",
              "\n",
              "<style>\n",
              "  .colab-df-quickchart {\n",
              "      --bg-color: #E8F0FE;\n",
              "      --fill-color: #1967D2;\n",
              "      --hover-bg-color: #E2EBFA;\n",
              "      --hover-fill-color: #174EA6;\n",
              "      --disabled-fill-color: #AAA;\n",
              "      --disabled-bg-color: #DDD;\n",
              "  }\n",
              "\n",
              "  [theme=dark] .colab-df-quickchart {\n",
              "      --bg-color: #3B4455;\n",
              "      --fill-color: #D2E3FC;\n",
              "      --hover-bg-color: #434B5C;\n",
              "      --hover-fill-color: #FFFFFF;\n",
              "      --disabled-bg-color: #3B4455;\n",
              "      --disabled-fill-color: #666;\n",
              "  }\n",
              "\n",
              "  .colab-df-quickchart {\n",
              "    background-color: var(--bg-color);\n",
              "    border: none;\n",
              "    border-radius: 50%;\n",
              "    cursor: pointer;\n",
              "    display: none;\n",
              "    fill: var(--fill-color);\n",
              "    height: 32px;\n",
              "    padding: 0;\n",
              "    width: 32px;\n",
              "  }\n",
              "\n",
              "  .colab-df-quickchart:hover {\n",
              "    background-color: var(--hover-bg-color);\n",
              "    box-shadow: 0 1px 2px rgba(60, 64, 67, 0.3), 0 1px 3px 1px rgba(60, 64, 67, 0.15);\n",
              "    fill: var(--button-hover-fill-color);\n",
              "  }\n",
              "\n",
              "  .colab-df-quickchart-complete:disabled,\n",
              "  .colab-df-quickchart-complete:disabled:hover {\n",
              "    background-color: var(--disabled-bg-color);\n",
              "    fill: var(--disabled-fill-color);\n",
              "    box-shadow: none;\n",
              "  }\n",
              "\n",
              "  .colab-df-spinner {\n",
              "    border: 2px solid var(--fill-color);\n",
              "    border-color: transparent;\n",
              "    border-bottom-color: var(--fill-color);\n",
              "    animation:\n",
              "      spin 1s steps(1) infinite;\n",
              "  }\n",
              "\n",
              "  @keyframes spin {\n",
              "    0% {\n",
              "      border-color: transparent;\n",
              "      border-bottom-color: var(--fill-color);\n",
              "      border-left-color: var(--fill-color);\n",
              "    }\n",
              "    20% {\n",
              "      border-color: transparent;\n",
              "      border-left-color: var(--fill-color);\n",
              "      border-top-color: var(--fill-color);\n",
              "    }\n",
              "    30% {\n",
              "      border-color: transparent;\n",
              "      border-left-color: var(--fill-color);\n",
              "      border-top-color: var(--fill-color);\n",
              "      border-right-color: var(--fill-color);\n",
              "    }\n",
              "    40% {\n",
              "      border-color: transparent;\n",
              "      border-right-color: var(--fill-color);\n",
              "      border-top-color: var(--fill-color);\n",
              "    }\n",
              "    60% {\n",
              "      border-color: transparent;\n",
              "      border-right-color: var(--fill-color);\n",
              "    }\n",
              "    80% {\n",
              "      border-color: transparent;\n",
              "      border-right-color: var(--fill-color);\n",
              "      border-bottom-color: var(--fill-color);\n",
              "    }\n",
              "    90% {\n",
              "      border-color: transparent;\n",
              "      border-bottom-color: var(--fill-color);\n",
              "    }\n",
              "  }\n",
              "</style>\n",
              "\n",
              "  <script>\n",
              "    async function quickchart(key) {\n",
              "      const quickchartButtonEl =\n",
              "        document.querySelector('#' + key + ' button');\n",
              "      quickchartButtonEl.disabled = true;  // To prevent multiple clicks.\n",
              "      quickchartButtonEl.classList.add('colab-df-spinner');\n",
              "      try {\n",
              "        const charts = await google.colab.kernel.invokeFunction(\n",
              "            'suggestCharts', [key], {});\n",
              "      } catch (error) {\n",
              "        console.error('Error during call to suggestCharts:', error);\n",
              "      }\n",
              "      quickchartButtonEl.classList.remove('colab-df-spinner');\n",
              "      quickchartButtonEl.classList.add('colab-df-quickchart-complete');\n",
              "    }\n",
              "    (() => {\n",
              "      let quickchartButtonEl =\n",
              "        document.querySelector('#df-c988b1c4-918a-44df-b012-5a771bec2446 button');\n",
              "      quickchartButtonEl.style.display =\n",
              "        google.colab.kernel.accessAllowed ? 'block' : 'none';\n",
              "    })();\n",
              "  </script>\n",
              "</div>\n",
              "\n",
              "    </div>\n",
              "  </div>\n"
            ],
            "application/vnd.google.colaboratory.intrinsic+json": {
              "type": "dataframe",
              "variable_name": "df"
            }
          },
          "metadata": {},
          "execution_count": 42
        }
      ]
    },
    {
      "cell_type": "code",
      "source": [
        "# Show row and column dataset\n",
        "print('Row:', df.shape[0], 'Column:', df.shape[1])"
      ],
      "metadata": {
        "colab": {
          "base_uri": "https://localhost:8080/"
        },
        "id": "OupHVbLJyruQ",
        "outputId": "993f3e21-4527-4709-bd2b-f15395c37177"
      },
      "execution_count": null,
      "outputs": [
        {
          "output_type": "stream",
          "name": "stdout",
          "text": [
            "Row: 1000000 Column: 6\n"
          ]
        }
      ]
    },
    {
      "cell_type": "code",
      "source": [
        "num_rows = len(df)\n",
        "print(f\"Number of rows: {num_rows}\")\n"
      ],
      "metadata": {
        "colab": {
          "base_uri": "https://localhost:8080/"
        },
        "id": "kRtOnuR1yOLn",
        "outputId": "ffc50ca4-3666-40e5-c5fa-4c9c22ad3879"
      },
      "execution_count": null,
      "outputs": [
        {
          "output_type": "stream",
          "name": "stdout",
          "text": [
            "Number of rows: 1000000\n"
          ]
        }
      ]
    },
    {
      "cell_type": "code",
      "source": [
        "# Info dataset\n",
        "df.info()"
      ],
      "metadata": {
        "colab": {
          "base_uri": "https://localhost:8080/"
        },
        "id": "fv3j62WvywCy",
        "outputId": "4ae8ba72-abbf-4b46-c15f-4877d149ffca"
      },
      "execution_count": null,
      "outputs": [
        {
          "output_type": "stream",
          "name": "stdout",
          "text": [
            "<class 'pandas.core.frame.DataFrame'>\n",
            "RangeIndex: 1000000 entries, 0 to 999999\n",
            "Data columns (total 6 columns):\n",
            " #   Column            Non-Null Count    Dtype  \n",
            "---  ------            --------------    -----  \n",
            " 0   Location          1000000 non-null  object \n",
            " 1   Date_Time         1000000 non-null  object \n",
            " 2   Temperature_C     1000000 non-null  float64\n",
            " 3   Humidity_pct      1000000 non-null  float64\n",
            " 4   Precipitation_mm  1000000 non-null  float64\n",
            " 5   Wind_Speed_kmh    1000000 non-null  float64\n",
            "dtypes: float64(4), object(2)\n",
            "memory usage: 45.8+ MB\n"
          ]
        }
      ]
    },
    {
      "cell_type": "code",
      "source": [
        "df.describe()"
      ],
      "metadata": {
        "colab": {
          "base_uri": "https://localhost:8080/",
          "height": 300
        },
        "id": "6FKAzsnnyxvY",
        "outputId": "b543fb8b-6764-42aa-ed9c-a6a3ae659bcc"
      },
      "execution_count": null,
      "outputs": [
        {
          "output_type": "execute_result",
          "data": {
            "text/plain": [
              "        Temperature_C    Humidity_pct  Precipitation_mm  Wind_Speed_kmh\n",
              "count  1000000.000000  1000000.000000    1000000.000000  1000000.000000\n",
              "mean        14.779705       60.021830          5.109639       14.997598\n",
              "std         14.482558       17.324022          2.947997        8.663556\n",
              "min        -19.969311       30.000009          0.000009        0.000051\n",
              "25%          2.269631       45.008500          2.580694        7.490101\n",
              "50%         14.778002       60.018708          5.109917       14.993777\n",
              "75%         27.270489       75.043818          7.613750       22.514110\n",
              "max         39.999801       89.999977         14.971583       29.999973"
            ],
            "text/html": [
              "\n",
              "  <div id=\"df-fb7c4306-6756-4738-ab7e-5816b1598f43\" class=\"colab-df-container\">\n",
              "    <div>\n",
              "<style scoped>\n",
              "    .dataframe tbody tr th:only-of-type {\n",
              "        vertical-align: middle;\n",
              "    }\n",
              "\n",
              "    .dataframe tbody tr th {\n",
              "        vertical-align: top;\n",
              "    }\n",
              "\n",
              "    .dataframe thead th {\n",
              "        text-align: right;\n",
              "    }\n",
              "</style>\n",
              "<table border=\"1\" class=\"dataframe\">\n",
              "  <thead>\n",
              "    <tr style=\"text-align: right;\">\n",
              "      <th></th>\n",
              "      <th>Temperature_C</th>\n",
              "      <th>Humidity_pct</th>\n",
              "      <th>Precipitation_mm</th>\n",
              "      <th>Wind_Speed_kmh</th>\n",
              "    </tr>\n",
              "  </thead>\n",
              "  <tbody>\n",
              "    <tr>\n",
              "      <th>count</th>\n",
              "      <td>1000000.000000</td>\n",
              "      <td>1000000.000000</td>\n",
              "      <td>1000000.000000</td>\n",
              "      <td>1000000.000000</td>\n",
              "    </tr>\n",
              "    <tr>\n",
              "      <th>mean</th>\n",
              "      <td>14.779705</td>\n",
              "      <td>60.021830</td>\n",
              "      <td>5.109639</td>\n",
              "      <td>14.997598</td>\n",
              "    </tr>\n",
              "    <tr>\n",
              "      <th>std</th>\n",
              "      <td>14.482558</td>\n",
              "      <td>17.324022</td>\n",
              "      <td>2.947997</td>\n",
              "      <td>8.663556</td>\n",
              "    </tr>\n",
              "    <tr>\n",
              "      <th>min</th>\n",
              "      <td>-19.969311</td>\n",
              "      <td>30.000009</td>\n",
              "      <td>0.000009</td>\n",
              "      <td>0.000051</td>\n",
              "    </tr>\n",
              "    <tr>\n",
              "      <th>25%</th>\n",
              "      <td>2.269631</td>\n",
              "      <td>45.008500</td>\n",
              "      <td>2.580694</td>\n",
              "      <td>7.490101</td>\n",
              "    </tr>\n",
              "    <tr>\n",
              "      <th>50%</th>\n",
              "      <td>14.778002</td>\n",
              "      <td>60.018708</td>\n",
              "      <td>5.109917</td>\n",
              "      <td>14.993777</td>\n",
              "    </tr>\n",
              "    <tr>\n",
              "      <th>75%</th>\n",
              "      <td>27.270489</td>\n",
              "      <td>75.043818</td>\n",
              "      <td>7.613750</td>\n",
              "      <td>22.514110</td>\n",
              "    </tr>\n",
              "    <tr>\n",
              "      <th>max</th>\n",
              "      <td>39.999801</td>\n",
              "      <td>89.999977</td>\n",
              "      <td>14.971583</td>\n",
              "      <td>29.999973</td>\n",
              "    </tr>\n",
              "  </tbody>\n",
              "</table>\n",
              "</div>\n",
              "    <div class=\"colab-df-buttons\">\n",
              "\n",
              "  <div class=\"colab-df-container\">\n",
              "    <button class=\"colab-df-convert\" onclick=\"convertToInteractive('df-fb7c4306-6756-4738-ab7e-5816b1598f43')\"\n",
              "            title=\"Convert this dataframe to an interactive table.\"\n",
              "            style=\"display:none;\">\n",
              "\n",
              "  <svg xmlns=\"http://www.w3.org/2000/svg\" height=\"24px\" viewBox=\"0 -960 960 960\">\n",
              "    <path d=\"M120-120v-720h720v720H120Zm60-500h600v-160H180v160Zm220 220h160v-160H400v160Zm0 220h160v-160H400v160ZM180-400h160v-160H180v160Zm440 0h160v-160H620v160ZM180-180h160v-160H180v160Zm440 0h160v-160H620v160Z\"/>\n",
              "  </svg>\n",
              "    </button>\n",
              "\n",
              "  <style>\n",
              "    .colab-df-container {\n",
              "      display:flex;\n",
              "      gap: 12px;\n",
              "    }\n",
              "\n",
              "    .colab-df-convert {\n",
              "      background-color: #E8F0FE;\n",
              "      border: none;\n",
              "      border-radius: 50%;\n",
              "      cursor: pointer;\n",
              "      display: none;\n",
              "      fill: #1967D2;\n",
              "      height: 32px;\n",
              "      padding: 0 0 0 0;\n",
              "      width: 32px;\n",
              "    }\n",
              "\n",
              "    .colab-df-convert:hover {\n",
              "      background-color: #E2EBFA;\n",
              "      box-shadow: 0px 1px 2px rgba(60, 64, 67, 0.3), 0px 1px 3px 1px rgba(60, 64, 67, 0.15);\n",
              "      fill: #174EA6;\n",
              "    }\n",
              "\n",
              "    .colab-df-buttons div {\n",
              "      margin-bottom: 4px;\n",
              "    }\n",
              "\n",
              "    [theme=dark] .colab-df-convert {\n",
              "      background-color: #3B4455;\n",
              "      fill: #D2E3FC;\n",
              "    }\n",
              "\n",
              "    [theme=dark] .colab-df-convert:hover {\n",
              "      background-color: #434B5C;\n",
              "      box-shadow: 0px 1px 3px 1px rgba(0, 0, 0, 0.15);\n",
              "      filter: drop-shadow(0px 1px 2px rgba(0, 0, 0, 0.3));\n",
              "      fill: #FFFFFF;\n",
              "    }\n",
              "  </style>\n",
              "\n",
              "    <script>\n",
              "      const buttonEl =\n",
              "        document.querySelector('#df-fb7c4306-6756-4738-ab7e-5816b1598f43 button.colab-df-convert');\n",
              "      buttonEl.style.display =\n",
              "        google.colab.kernel.accessAllowed ? 'block' : 'none';\n",
              "\n",
              "      async function convertToInteractive(key) {\n",
              "        const element = document.querySelector('#df-fb7c4306-6756-4738-ab7e-5816b1598f43');\n",
              "        const dataTable =\n",
              "          await google.colab.kernel.invokeFunction('convertToInteractive',\n",
              "                                                    [key], {});\n",
              "        if (!dataTable) return;\n",
              "\n",
              "        const docLinkHtml = 'Like what you see? Visit the ' +\n",
              "          '<a target=\"_blank\" href=https://colab.research.google.com/notebooks/data_table.ipynb>data table notebook</a>'\n",
              "          + ' to learn more about interactive tables.';\n",
              "        element.innerHTML = '';\n",
              "        dataTable['output_type'] = 'display_data';\n",
              "        await google.colab.output.renderOutput(dataTable, element);\n",
              "        const docLink = document.createElement('div');\n",
              "        docLink.innerHTML = docLinkHtml;\n",
              "        element.appendChild(docLink);\n",
              "      }\n",
              "    </script>\n",
              "  </div>\n",
              "\n",
              "\n",
              "<div id=\"df-764a08d6-a967-4326-9c04-8a58ca4c13fc\">\n",
              "  <button class=\"colab-df-quickchart\" onclick=\"quickchart('df-764a08d6-a967-4326-9c04-8a58ca4c13fc')\"\n",
              "            title=\"Suggest charts\"\n",
              "            style=\"display:none;\">\n",
              "\n",
              "<svg xmlns=\"http://www.w3.org/2000/svg\" height=\"24px\"viewBox=\"0 0 24 24\"\n",
              "     width=\"24px\">\n",
              "    <g>\n",
              "        <path d=\"M19 3H5c-1.1 0-2 .9-2 2v14c0 1.1.9 2 2 2h14c1.1 0 2-.9 2-2V5c0-1.1-.9-2-2-2zM9 17H7v-7h2v7zm4 0h-2V7h2v10zm4 0h-2v-4h2v4z\"/>\n",
              "    </g>\n",
              "</svg>\n",
              "  </button>\n",
              "\n",
              "<style>\n",
              "  .colab-df-quickchart {\n",
              "      --bg-color: #E8F0FE;\n",
              "      --fill-color: #1967D2;\n",
              "      --hover-bg-color: #E2EBFA;\n",
              "      --hover-fill-color: #174EA6;\n",
              "      --disabled-fill-color: #AAA;\n",
              "      --disabled-bg-color: #DDD;\n",
              "  }\n",
              "\n",
              "  [theme=dark] .colab-df-quickchart {\n",
              "      --bg-color: #3B4455;\n",
              "      --fill-color: #D2E3FC;\n",
              "      --hover-bg-color: #434B5C;\n",
              "      --hover-fill-color: #FFFFFF;\n",
              "      --disabled-bg-color: #3B4455;\n",
              "      --disabled-fill-color: #666;\n",
              "  }\n",
              "\n",
              "  .colab-df-quickchart {\n",
              "    background-color: var(--bg-color);\n",
              "    border: none;\n",
              "    border-radius: 50%;\n",
              "    cursor: pointer;\n",
              "    display: none;\n",
              "    fill: var(--fill-color);\n",
              "    height: 32px;\n",
              "    padding: 0;\n",
              "    width: 32px;\n",
              "  }\n",
              "\n",
              "  .colab-df-quickchart:hover {\n",
              "    background-color: var(--hover-bg-color);\n",
              "    box-shadow: 0 1px 2px rgba(60, 64, 67, 0.3), 0 1px 3px 1px rgba(60, 64, 67, 0.15);\n",
              "    fill: var(--button-hover-fill-color);\n",
              "  }\n",
              "\n",
              "  .colab-df-quickchart-complete:disabled,\n",
              "  .colab-df-quickchart-complete:disabled:hover {\n",
              "    background-color: var(--disabled-bg-color);\n",
              "    fill: var(--disabled-fill-color);\n",
              "    box-shadow: none;\n",
              "  }\n",
              "\n",
              "  .colab-df-spinner {\n",
              "    border: 2px solid var(--fill-color);\n",
              "    border-color: transparent;\n",
              "    border-bottom-color: var(--fill-color);\n",
              "    animation:\n",
              "      spin 1s steps(1) infinite;\n",
              "  }\n",
              "\n",
              "  @keyframes spin {\n",
              "    0% {\n",
              "      border-color: transparent;\n",
              "      border-bottom-color: var(--fill-color);\n",
              "      border-left-color: var(--fill-color);\n",
              "    }\n",
              "    20% {\n",
              "      border-color: transparent;\n",
              "      border-left-color: var(--fill-color);\n",
              "      border-top-color: var(--fill-color);\n",
              "    }\n",
              "    30% {\n",
              "      border-color: transparent;\n",
              "      border-left-color: var(--fill-color);\n",
              "      border-top-color: var(--fill-color);\n",
              "      border-right-color: var(--fill-color);\n",
              "    }\n",
              "    40% {\n",
              "      border-color: transparent;\n",
              "      border-right-color: var(--fill-color);\n",
              "      border-top-color: var(--fill-color);\n",
              "    }\n",
              "    60% {\n",
              "      border-color: transparent;\n",
              "      border-right-color: var(--fill-color);\n",
              "    }\n",
              "    80% {\n",
              "      border-color: transparent;\n",
              "      border-right-color: var(--fill-color);\n",
              "      border-bottom-color: var(--fill-color);\n",
              "    }\n",
              "    90% {\n",
              "      border-color: transparent;\n",
              "      border-bottom-color: var(--fill-color);\n",
              "    }\n",
              "  }\n",
              "</style>\n",
              "\n",
              "  <script>\n",
              "    async function quickchart(key) {\n",
              "      const quickchartButtonEl =\n",
              "        document.querySelector('#' + key + ' button');\n",
              "      quickchartButtonEl.disabled = true;  // To prevent multiple clicks.\n",
              "      quickchartButtonEl.classList.add('colab-df-spinner');\n",
              "      try {\n",
              "        const charts = await google.colab.kernel.invokeFunction(\n",
              "            'suggestCharts', [key], {});\n",
              "      } catch (error) {\n",
              "        console.error('Error during call to suggestCharts:', error);\n",
              "      }\n",
              "      quickchartButtonEl.classList.remove('colab-df-spinner');\n",
              "      quickchartButtonEl.classList.add('colab-df-quickchart-complete');\n",
              "    }\n",
              "    (() => {\n",
              "      let quickchartButtonEl =\n",
              "        document.querySelector('#df-764a08d6-a967-4326-9c04-8a58ca4c13fc button');\n",
              "      quickchartButtonEl.style.display =\n",
              "        google.colab.kernel.accessAllowed ? 'block' : 'none';\n",
              "    })();\n",
              "  </script>\n",
              "</div>\n",
              "\n",
              "    </div>\n",
              "  </div>\n"
            ],
            "application/vnd.google.colaboratory.intrinsic+json": {
              "type": "dataframe",
              "summary": "{\n  \"name\": \"df\",\n  \"rows\": 8,\n  \"fields\": [\n    {\n      \"column\": \"Temperature_C\",\n      \"properties\": {\n        \"dtype\": \"number\",\n        \"std\": 353548.66296293767,\n        \"min\": -19.96931109358452,\n        \"max\": 1000000.0,\n        \"num_unique_values\": 8,\n        \"samples\": [\n          14.779704927041756,\n          14.778002114414651,\n          1000000.0\n        ],\n        \"semantic_type\": \"\",\n        \"description\": \"\"\n      }\n    },\n    {\n      \"column\": \"Humidity_pct\",\n      \"properties\": {\n        \"dtype\": \"number\",\n        \"std\": 353534.32893347,\n        \"min\": 17.32402203693991,\n        \"max\": 1000000.0,\n        \"num_unique_values\": 8,\n        \"samples\": [\n          60.02182955554031,\n          60.01870762244083,\n          1000000.0\n        ],\n        \"semantic_type\": \"\",\n        \"description\": \"\"\n      }\n    },\n    {\n      \"column\": \"Precipitation_mm\",\n      \"properties\": {\n        \"dtype\": \"number\",\n        \"std\": 353551.4544828771,\n        \"min\": 8.904156590938683e-06,\n        \"max\": 1000000.0,\n        \"num_unique_values\": 8,\n        \"samples\": [\n          5.109639125976359,\n          5.109917161005711,\n          1000000.0\n        ],\n        \"semantic_type\": \"\",\n        \"description\": \"\"\n      }\n    },\n    {\n      \"column\": \"Wind_Speed_kmh\",\n      \"properties\": {\n        \"dtype\": \"number\",\n        \"std\": 353548.40767360234,\n        \"min\": 5.064808367705176e-05,\n        \"max\": 1000000.0,\n        \"num_unique_values\": 8,\n        \"samples\": [\n          14.997598129281672,\n          14.993776599233708,\n          1000000.0\n        ],\n        \"semantic_type\": \"\",\n        \"description\": \"\"\n      }\n    }\n  ]\n}"
            }
          },
          "metadata": {},
          "execution_count": 14
        }
      ]
    },
    {
      "cell_type": "markdown",
      "source": [
        "The following are the key points of the descriptive analysis results of the synthetic weather dataset:\n",
        "\n",
        "1. Temperature (Temperature_C):\n",
        "\n",
        "    - Average: 14.78°C, with considerable variation (standard deviation 14.48°C).\n",
        "    - Range: from -19.97°C (cold) to 39.99°C (hot).\n",
        "    - Symmetrical distribution as the median and mean are almost equal.\n",
        "\n",
        "2. Humidity (Humidity_pct):\n",
        "    - Average: 60.02%, with a variation of 17.32%.\n",
        "    - Range: from 30% to 89.99%.\n",
        "    - Symmetrical distribution with the median close to the mean.\n",
        "\n",
        "3. Precipitation_mm:\n",
        "    - Average: 5.11 mm, with a variation of 2.95 mm.\n",
        "    - Range: from 0 mm (no rain) to 14.97 mm (heavy rain).\n",
        "    - Symmetrical distribution.\n",
        "\n",
        "4. Wind Speed (Wind_Speed_kmh):\n",
        "    - Average: 14.99 km/h, with a variation of 8.66 km/h.\n",
        "    - Range: from 0 km/h (no wind) to 29.99 km/h (strong wind).\n",
        "    - Symmetrical distribution.\n",
        "\n",
        "General Conclusions:\n",
        "- The data has no missing values and shows moderate variation.\n",
        "- The distributions of temperature and wind speed are more variable than humidity and precipitation.\n"
      ],
      "metadata": {
        "id": "wtDIPbVDy7Ax"
      }
    },
    {
      "cell_type": "code",
      "source": [
        "# renaming columns\n",
        "df.rename(columns={\n",
        "    'Location':'location',\n",
        "    'Date_Time':'date',\n",
        "    'Temperature_C':'temp',\n",
        "    'Humidity_pct':'humidity',\n",
        "    'Precipitation_mm':'precipitation',\n",
        "    'Wind_Speed_kmh':'wind'\n",
        "}, inplace=True)\n",
        "df.head()"
      ],
      "metadata": {
        "colab": {
          "base_uri": "https://localhost:8080/",
          "height": 206
        },
        "id": "WlVvZ0A4yz-K",
        "outputId": "8a9f55e5-6c98-4d16-e24b-887b419ef303"
      },
      "execution_count": null,
      "outputs": [
        {
          "output_type": "execute_result",
          "data": {
            "text/plain": [
              "       location                 date       temp   humidity  precipitation  \\\n",
              "0     San Diego  2024-01-14 21:12:46  10.683001  41.195754       4.020119   \n",
              "1     San Diego  2024-05-17 15:22:10   8.734140  58.319107       9.111623   \n",
              "2     San Diego  2024-05-11 09:30:59  11.632436  38.820175       4.607511   \n",
              "3  Philadelphia  2024-02-26 17:32:39  -8.628976  54.074474       3.183720   \n",
              "4   San Antonio  2024-04-29 13:23:51  39.808213  72.899908       9.598282   \n",
              "\n",
              "        wind  \n",
              "0   8.233540  \n",
              "1  27.715161  \n",
              "2  28.732951  \n",
              "3  26.367303  \n",
              "4  29.898622  "
            ],
            "text/html": [
              "\n",
              "  <div id=\"df-13e62429-150d-4410-b3b7-890540cdb815\" class=\"colab-df-container\">\n",
              "    <div>\n",
              "<style scoped>\n",
              "    .dataframe tbody tr th:only-of-type {\n",
              "        vertical-align: middle;\n",
              "    }\n",
              "\n",
              "    .dataframe tbody tr th {\n",
              "        vertical-align: top;\n",
              "    }\n",
              "\n",
              "    .dataframe thead th {\n",
              "        text-align: right;\n",
              "    }\n",
              "</style>\n",
              "<table border=\"1\" class=\"dataframe\">\n",
              "  <thead>\n",
              "    <tr style=\"text-align: right;\">\n",
              "      <th></th>\n",
              "      <th>location</th>\n",
              "      <th>date</th>\n",
              "      <th>temp</th>\n",
              "      <th>humidity</th>\n",
              "      <th>precipitation</th>\n",
              "      <th>wind</th>\n",
              "    </tr>\n",
              "  </thead>\n",
              "  <tbody>\n",
              "    <tr>\n",
              "      <th>0</th>\n",
              "      <td>San Diego</td>\n",
              "      <td>2024-01-14 21:12:46</td>\n",
              "      <td>10.683001</td>\n",
              "      <td>41.195754</td>\n",
              "      <td>4.020119</td>\n",
              "      <td>8.233540</td>\n",
              "    </tr>\n",
              "    <tr>\n",
              "      <th>1</th>\n",
              "      <td>San Diego</td>\n",
              "      <td>2024-05-17 15:22:10</td>\n",
              "      <td>8.734140</td>\n",
              "      <td>58.319107</td>\n",
              "      <td>9.111623</td>\n",
              "      <td>27.715161</td>\n",
              "    </tr>\n",
              "    <tr>\n",
              "      <th>2</th>\n",
              "      <td>San Diego</td>\n",
              "      <td>2024-05-11 09:30:59</td>\n",
              "      <td>11.632436</td>\n",
              "      <td>38.820175</td>\n",
              "      <td>4.607511</td>\n",
              "      <td>28.732951</td>\n",
              "    </tr>\n",
              "    <tr>\n",
              "      <th>3</th>\n",
              "      <td>Philadelphia</td>\n",
              "      <td>2024-02-26 17:32:39</td>\n",
              "      <td>-8.628976</td>\n",
              "      <td>54.074474</td>\n",
              "      <td>3.183720</td>\n",
              "      <td>26.367303</td>\n",
              "    </tr>\n",
              "    <tr>\n",
              "      <th>4</th>\n",
              "      <td>San Antonio</td>\n",
              "      <td>2024-04-29 13:23:51</td>\n",
              "      <td>39.808213</td>\n",
              "      <td>72.899908</td>\n",
              "      <td>9.598282</td>\n",
              "      <td>29.898622</td>\n",
              "    </tr>\n",
              "  </tbody>\n",
              "</table>\n",
              "</div>\n",
              "    <div class=\"colab-df-buttons\">\n",
              "\n",
              "  <div class=\"colab-df-container\">\n",
              "    <button class=\"colab-df-convert\" onclick=\"convertToInteractive('df-13e62429-150d-4410-b3b7-890540cdb815')\"\n",
              "            title=\"Convert this dataframe to an interactive table.\"\n",
              "            style=\"display:none;\">\n",
              "\n",
              "  <svg xmlns=\"http://www.w3.org/2000/svg\" height=\"24px\" viewBox=\"0 -960 960 960\">\n",
              "    <path d=\"M120-120v-720h720v720H120Zm60-500h600v-160H180v160Zm220 220h160v-160H400v160Zm0 220h160v-160H400v160ZM180-400h160v-160H180v160Zm440 0h160v-160H620v160ZM180-180h160v-160H180v160Zm440 0h160v-160H620v160Z\"/>\n",
              "  </svg>\n",
              "    </button>\n",
              "\n",
              "  <style>\n",
              "    .colab-df-container {\n",
              "      display:flex;\n",
              "      gap: 12px;\n",
              "    }\n",
              "\n",
              "    .colab-df-convert {\n",
              "      background-color: #E8F0FE;\n",
              "      border: none;\n",
              "      border-radius: 50%;\n",
              "      cursor: pointer;\n",
              "      display: none;\n",
              "      fill: #1967D2;\n",
              "      height: 32px;\n",
              "      padding: 0 0 0 0;\n",
              "      width: 32px;\n",
              "    }\n",
              "\n",
              "    .colab-df-convert:hover {\n",
              "      background-color: #E2EBFA;\n",
              "      box-shadow: 0px 1px 2px rgba(60, 64, 67, 0.3), 0px 1px 3px 1px rgba(60, 64, 67, 0.15);\n",
              "      fill: #174EA6;\n",
              "    }\n",
              "\n",
              "    .colab-df-buttons div {\n",
              "      margin-bottom: 4px;\n",
              "    }\n",
              "\n",
              "    [theme=dark] .colab-df-convert {\n",
              "      background-color: #3B4455;\n",
              "      fill: #D2E3FC;\n",
              "    }\n",
              "\n",
              "    [theme=dark] .colab-df-convert:hover {\n",
              "      background-color: #434B5C;\n",
              "      box-shadow: 0px 1px 3px 1px rgba(0, 0, 0, 0.15);\n",
              "      filter: drop-shadow(0px 1px 2px rgba(0, 0, 0, 0.3));\n",
              "      fill: #FFFFFF;\n",
              "    }\n",
              "  </style>\n",
              "\n",
              "    <script>\n",
              "      const buttonEl =\n",
              "        document.querySelector('#df-13e62429-150d-4410-b3b7-890540cdb815 button.colab-df-convert');\n",
              "      buttonEl.style.display =\n",
              "        google.colab.kernel.accessAllowed ? 'block' : 'none';\n",
              "\n",
              "      async function convertToInteractive(key) {\n",
              "        const element = document.querySelector('#df-13e62429-150d-4410-b3b7-890540cdb815');\n",
              "        const dataTable =\n",
              "          await google.colab.kernel.invokeFunction('convertToInteractive',\n",
              "                                                    [key], {});\n",
              "        if (!dataTable) return;\n",
              "\n",
              "        const docLinkHtml = 'Like what you see? Visit the ' +\n",
              "          '<a target=\"_blank\" href=https://colab.research.google.com/notebooks/data_table.ipynb>data table notebook</a>'\n",
              "          + ' to learn more about interactive tables.';\n",
              "        element.innerHTML = '';\n",
              "        dataTable['output_type'] = 'display_data';\n",
              "        await google.colab.output.renderOutput(dataTable, element);\n",
              "        const docLink = document.createElement('div');\n",
              "        docLink.innerHTML = docLinkHtml;\n",
              "        element.appendChild(docLink);\n",
              "      }\n",
              "    </script>\n",
              "  </div>\n",
              "\n",
              "\n",
              "<div id=\"df-10ccf261-fd80-4637-b910-cf92071dc82d\">\n",
              "  <button class=\"colab-df-quickchart\" onclick=\"quickchart('df-10ccf261-fd80-4637-b910-cf92071dc82d')\"\n",
              "            title=\"Suggest charts\"\n",
              "            style=\"display:none;\">\n",
              "\n",
              "<svg xmlns=\"http://www.w3.org/2000/svg\" height=\"24px\"viewBox=\"0 0 24 24\"\n",
              "     width=\"24px\">\n",
              "    <g>\n",
              "        <path d=\"M19 3H5c-1.1 0-2 .9-2 2v14c0 1.1.9 2 2 2h14c1.1 0 2-.9 2-2V5c0-1.1-.9-2-2-2zM9 17H7v-7h2v7zm4 0h-2V7h2v10zm4 0h-2v-4h2v4z\"/>\n",
              "    </g>\n",
              "</svg>\n",
              "  </button>\n",
              "\n",
              "<style>\n",
              "  .colab-df-quickchart {\n",
              "      --bg-color: #E8F0FE;\n",
              "      --fill-color: #1967D2;\n",
              "      --hover-bg-color: #E2EBFA;\n",
              "      --hover-fill-color: #174EA6;\n",
              "      --disabled-fill-color: #AAA;\n",
              "      --disabled-bg-color: #DDD;\n",
              "  }\n",
              "\n",
              "  [theme=dark] .colab-df-quickchart {\n",
              "      --bg-color: #3B4455;\n",
              "      --fill-color: #D2E3FC;\n",
              "      --hover-bg-color: #434B5C;\n",
              "      --hover-fill-color: #FFFFFF;\n",
              "      --disabled-bg-color: #3B4455;\n",
              "      --disabled-fill-color: #666;\n",
              "  }\n",
              "\n",
              "  .colab-df-quickchart {\n",
              "    background-color: var(--bg-color);\n",
              "    border: none;\n",
              "    border-radius: 50%;\n",
              "    cursor: pointer;\n",
              "    display: none;\n",
              "    fill: var(--fill-color);\n",
              "    height: 32px;\n",
              "    padding: 0;\n",
              "    width: 32px;\n",
              "  }\n",
              "\n",
              "  .colab-df-quickchart:hover {\n",
              "    background-color: var(--hover-bg-color);\n",
              "    box-shadow: 0 1px 2px rgba(60, 64, 67, 0.3), 0 1px 3px 1px rgba(60, 64, 67, 0.15);\n",
              "    fill: var(--button-hover-fill-color);\n",
              "  }\n",
              "\n",
              "  .colab-df-quickchart-complete:disabled,\n",
              "  .colab-df-quickchart-complete:disabled:hover {\n",
              "    background-color: var(--disabled-bg-color);\n",
              "    fill: var(--disabled-fill-color);\n",
              "    box-shadow: none;\n",
              "  }\n",
              "\n",
              "  .colab-df-spinner {\n",
              "    border: 2px solid var(--fill-color);\n",
              "    border-color: transparent;\n",
              "    border-bottom-color: var(--fill-color);\n",
              "    animation:\n",
              "      spin 1s steps(1) infinite;\n",
              "  }\n",
              "\n",
              "  @keyframes spin {\n",
              "    0% {\n",
              "      border-color: transparent;\n",
              "      border-bottom-color: var(--fill-color);\n",
              "      border-left-color: var(--fill-color);\n",
              "    }\n",
              "    20% {\n",
              "      border-color: transparent;\n",
              "      border-left-color: var(--fill-color);\n",
              "      border-top-color: var(--fill-color);\n",
              "    }\n",
              "    30% {\n",
              "      border-color: transparent;\n",
              "      border-left-color: var(--fill-color);\n",
              "      border-top-color: var(--fill-color);\n",
              "      border-right-color: var(--fill-color);\n",
              "    }\n",
              "    40% {\n",
              "      border-color: transparent;\n",
              "      border-right-color: var(--fill-color);\n",
              "      border-top-color: var(--fill-color);\n",
              "    }\n",
              "    60% {\n",
              "      border-color: transparent;\n",
              "      border-right-color: var(--fill-color);\n",
              "    }\n",
              "    80% {\n",
              "      border-color: transparent;\n",
              "      border-right-color: var(--fill-color);\n",
              "      border-bottom-color: var(--fill-color);\n",
              "    }\n",
              "    90% {\n",
              "      border-color: transparent;\n",
              "      border-bottom-color: var(--fill-color);\n",
              "    }\n",
              "  }\n",
              "</style>\n",
              "\n",
              "  <script>\n",
              "    async function quickchart(key) {\n",
              "      const quickchartButtonEl =\n",
              "        document.querySelector('#' + key + ' button');\n",
              "      quickchartButtonEl.disabled = true;  // To prevent multiple clicks.\n",
              "      quickchartButtonEl.classList.add('colab-df-spinner');\n",
              "      try {\n",
              "        const charts = await google.colab.kernel.invokeFunction(\n",
              "            'suggestCharts', [key], {});\n",
              "      } catch (error) {\n",
              "        console.error('Error during call to suggestCharts:', error);\n",
              "      }\n",
              "      quickchartButtonEl.classList.remove('colab-df-spinner');\n",
              "      quickchartButtonEl.classList.add('colab-df-quickchart-complete');\n",
              "    }\n",
              "    (() => {\n",
              "      let quickchartButtonEl =\n",
              "        document.querySelector('#df-10ccf261-fd80-4637-b910-cf92071dc82d button');\n",
              "      quickchartButtonEl.style.display =\n",
              "        google.colab.kernel.accessAllowed ? 'block' : 'none';\n",
              "    })();\n",
              "  </script>\n",
              "</div>\n",
              "\n",
              "    </div>\n",
              "  </div>\n"
            ],
            "application/vnd.google.colaboratory.intrinsic+json": {
              "type": "dataframe",
              "variable_name": "df"
            }
          },
          "metadata": {},
          "execution_count": 15
        }
      ]
    },
    {
      "cell_type": "code",
      "source": [
        "# Check missing value\n",
        "df.isna().sum()"
      ],
      "metadata": {
        "colab": {
          "base_uri": "https://localhost:8080/",
          "height": 272
        },
        "id": "yIZWVjMZy_TH",
        "outputId": "1b361ec0-bf6d-4a4f-fc71-d64029f75867"
      },
      "execution_count": null,
      "outputs": [
        {
          "output_type": "execute_result",
          "data": {
            "text/plain": [
              "location         0\n",
              "date             0\n",
              "temp             0\n",
              "humidity         0\n",
              "precipitation    0\n",
              "wind             0\n",
              "dtype: int64"
            ],
            "text/html": [
              "<div>\n",
              "<style scoped>\n",
              "    .dataframe tbody tr th:only-of-type {\n",
              "        vertical-align: middle;\n",
              "    }\n",
              "\n",
              "    .dataframe tbody tr th {\n",
              "        vertical-align: top;\n",
              "    }\n",
              "\n",
              "    .dataframe thead th {\n",
              "        text-align: right;\n",
              "    }\n",
              "</style>\n",
              "<table border=\"1\" class=\"dataframe\">\n",
              "  <thead>\n",
              "    <tr style=\"text-align: right;\">\n",
              "      <th></th>\n",
              "      <th>0</th>\n",
              "    </tr>\n",
              "  </thead>\n",
              "  <tbody>\n",
              "    <tr>\n",
              "      <th>location</th>\n",
              "      <td>0</td>\n",
              "    </tr>\n",
              "    <tr>\n",
              "      <th>date</th>\n",
              "      <td>0</td>\n",
              "    </tr>\n",
              "    <tr>\n",
              "      <th>temp</th>\n",
              "      <td>0</td>\n",
              "    </tr>\n",
              "    <tr>\n",
              "      <th>humidity</th>\n",
              "      <td>0</td>\n",
              "    </tr>\n",
              "    <tr>\n",
              "      <th>precipitation</th>\n",
              "      <td>0</td>\n",
              "    </tr>\n",
              "    <tr>\n",
              "      <th>wind</th>\n",
              "      <td>0</td>\n",
              "    </tr>\n",
              "  </tbody>\n",
              "</table>\n",
              "</div><br><label><b>dtype:</b> int64</label>"
            ]
          },
          "metadata": {},
          "execution_count": 16
        }
      ]
    },
    {
      "cell_type": "code",
      "source": [
        "df['date'] = pd.to_datetime(df['date'])\n",
        "df.info()"
      ],
      "metadata": {
        "colab": {
          "base_uri": "https://localhost:8080/"
        },
        "id": "bDGklwcPzBcx",
        "outputId": "5b973c02-9d68-4615-b3e8-546b7462d145"
      },
      "execution_count": null,
      "outputs": [
        {
          "output_type": "stream",
          "name": "stdout",
          "text": [
            "<class 'pandas.core.frame.DataFrame'>\n",
            "RangeIndex: 1000000 entries, 0 to 999999\n",
            "Data columns (total 6 columns):\n",
            " #   Column         Non-Null Count    Dtype         \n",
            "---  ------         --------------    -----         \n",
            " 0   location       1000000 non-null  object        \n",
            " 1   date           1000000 non-null  datetime64[ns]\n",
            " 2   temp           1000000 non-null  float64       \n",
            " 3   humidity       1000000 non-null  float64       \n",
            " 4   precipitation  1000000 non-null  float64       \n",
            " 5   wind           1000000 non-null  float64       \n",
            "dtypes: datetime64[ns](1), float64(4), object(1)\n",
            "memory usage: 45.8+ MB\n"
          ]
        }
      ]
    },
    {
      "cell_type": "code",
      "source": [
        "group_temp = df.groupby('location')\n",
        "loc_temp = group_temp['temp'].agg('mean')\n",
        "loc_temp.sort_values(ascending=True)"
      ],
      "metadata": {
        "colab": {
          "base_uri": "https://localhost:8080/",
          "height": 429
        },
        "id": "9PhSv4NnzDMr",
        "outputId": "71cbe2f7-fccd-493f-9c42-b94c42eaf648"
      },
      "execution_count": null,
      "outputs": [
        {
          "output_type": "execute_result",
          "data": {
            "text/plain": [
              "location\n",
              "Phoenix         12.792479\n",
              "San Diego       14.933539\n",
              "Houston         14.942985\n",
              "San Jose        14.956108\n",
              "Dallas          15.009097\n",
              "Chicago         15.009208\n",
              "New York        15.013389\n",
              "San Antonio     15.027761\n",
              "Philadelphia    15.035892\n",
              "Los Angeles     15.081063\n",
              "Name: temp, dtype: float64"
            ],
            "text/html": [
              "<div>\n",
              "<style scoped>\n",
              "    .dataframe tbody tr th:only-of-type {\n",
              "        vertical-align: middle;\n",
              "    }\n",
              "\n",
              "    .dataframe tbody tr th {\n",
              "        vertical-align: top;\n",
              "    }\n",
              "\n",
              "    .dataframe thead th {\n",
              "        text-align: right;\n",
              "    }\n",
              "</style>\n",
              "<table border=\"1\" class=\"dataframe\">\n",
              "  <thead>\n",
              "    <tr style=\"text-align: right;\">\n",
              "      <th></th>\n",
              "      <th>temp</th>\n",
              "    </tr>\n",
              "    <tr>\n",
              "      <th>location</th>\n",
              "      <th></th>\n",
              "    </tr>\n",
              "  </thead>\n",
              "  <tbody>\n",
              "    <tr>\n",
              "      <th>Phoenix</th>\n",
              "      <td>12.792479</td>\n",
              "    </tr>\n",
              "    <tr>\n",
              "      <th>San Diego</th>\n",
              "      <td>14.933539</td>\n",
              "    </tr>\n",
              "    <tr>\n",
              "      <th>Houston</th>\n",
              "      <td>14.942985</td>\n",
              "    </tr>\n",
              "    <tr>\n",
              "      <th>San Jose</th>\n",
              "      <td>14.956108</td>\n",
              "    </tr>\n",
              "    <tr>\n",
              "      <th>Dallas</th>\n",
              "      <td>15.009097</td>\n",
              "    </tr>\n",
              "    <tr>\n",
              "      <th>Chicago</th>\n",
              "      <td>15.009208</td>\n",
              "    </tr>\n",
              "    <tr>\n",
              "      <th>New York</th>\n",
              "      <td>15.013389</td>\n",
              "    </tr>\n",
              "    <tr>\n",
              "      <th>San Antonio</th>\n",
              "      <td>15.027761</td>\n",
              "    </tr>\n",
              "    <tr>\n",
              "      <th>Philadelphia</th>\n",
              "      <td>15.035892</td>\n",
              "    </tr>\n",
              "    <tr>\n",
              "      <th>Los Angeles</th>\n",
              "      <td>15.081063</td>\n",
              "    </tr>\n",
              "  </tbody>\n",
              "</table>\n",
              "</div><br><label><b>dtype:</b> float64</label>"
            ]
          },
          "metadata": {},
          "execution_count": 18
        }
      ]
    },
    {
      "cell_type": "markdown",
      "source": [
        "Analysis:\n",
        "- Phoenix has the lowest average temperature, at around 12.79°C.\n",
        "- San Diego, Houston, and San Jose have slightly higher average temperatures, with temperatures of around 14.93°C to 14.96°C respectively.\n",
        "- Dallas, Chicago, New York, San Antonio, and Philadelphia have similar average temperatures, ranging from 15.01°C to 15.04°C.\n",
        "- Los Angeles records the highest average temperature on this list, at around 15.08°C.\n"
      ],
      "metadata": {
        "id": "hE9FPj9OzJMf"
      }
    },
    {
      "cell_type": "markdown",
      "source": [
        "## Exploratory Data Analysis (EDA)"
      ],
      "metadata": {
        "id": "tk6Cm_MWzpu-"
      }
    },
    {
      "cell_type": "markdown",
      "source": [
        "### Average percentage humidity in USA cities\n"
      ],
      "metadata": {
        "id": "_bhDaKWdzuG3"
      }
    },
    {
      "cell_type": "code",
      "source": [
        "group_temp = df.groupby('location')\n",
        "loc_temp = group_temp['humidity'].agg('mean')\n",
        "loc_temp.sort_values(ascending=False)"
      ],
      "metadata": {
        "colab": {
          "base_uri": "https://localhost:8080/",
          "height": 429
        },
        "id": "9laAfkKZzFxe",
        "outputId": "2476b767-431c-4ca8-b27b-1aedc36f99c6"
      },
      "execution_count": null,
      "outputs": [
        {
          "output_type": "execute_result",
          "data": {
            "text/plain": [
              "location\n",
              "Chicago         60.088798\n",
              "Los Angeles     60.072151\n",
              "San Diego       60.072074\n",
              "Phoenix         60.048643\n",
              "Philadelphia    60.044902\n",
              "New York        60.044688\n",
              "San Jose        59.986630\n",
              "Houston         59.967598\n",
              "Dallas          59.959900\n",
              "San Antonio     59.932798\n",
              "Name: humidity, dtype: float64"
            ],
            "text/html": [
              "<div>\n",
              "<style scoped>\n",
              "    .dataframe tbody tr th:only-of-type {\n",
              "        vertical-align: middle;\n",
              "    }\n",
              "\n",
              "    .dataframe tbody tr th {\n",
              "        vertical-align: top;\n",
              "    }\n",
              "\n",
              "    .dataframe thead th {\n",
              "        text-align: right;\n",
              "    }\n",
              "</style>\n",
              "<table border=\"1\" class=\"dataframe\">\n",
              "  <thead>\n",
              "    <tr style=\"text-align: right;\">\n",
              "      <th></th>\n",
              "      <th>humidity</th>\n",
              "    </tr>\n",
              "    <tr>\n",
              "      <th>location</th>\n",
              "      <th></th>\n",
              "    </tr>\n",
              "  </thead>\n",
              "  <tbody>\n",
              "    <tr>\n",
              "      <th>Chicago</th>\n",
              "      <td>60.088798</td>\n",
              "    </tr>\n",
              "    <tr>\n",
              "      <th>Los Angeles</th>\n",
              "      <td>60.072151</td>\n",
              "    </tr>\n",
              "    <tr>\n",
              "      <th>San Diego</th>\n",
              "      <td>60.072074</td>\n",
              "    </tr>\n",
              "    <tr>\n",
              "      <th>Phoenix</th>\n",
              "      <td>60.048643</td>\n",
              "    </tr>\n",
              "    <tr>\n",
              "      <th>Philadelphia</th>\n",
              "      <td>60.044902</td>\n",
              "    </tr>\n",
              "    <tr>\n",
              "      <th>New York</th>\n",
              "      <td>60.044688</td>\n",
              "    </tr>\n",
              "    <tr>\n",
              "      <th>San Jose</th>\n",
              "      <td>59.986630</td>\n",
              "    </tr>\n",
              "    <tr>\n",
              "      <th>Houston</th>\n",
              "      <td>59.967598</td>\n",
              "    </tr>\n",
              "    <tr>\n",
              "      <th>Dallas</th>\n",
              "      <td>59.959900</td>\n",
              "    </tr>\n",
              "    <tr>\n",
              "      <th>San Antonio</th>\n",
              "      <td>59.932798</td>\n",
              "    </tr>\n",
              "  </tbody>\n",
              "</table>\n",
              "</div><br><label><b>dtype:</b> float64</label>"
            ]
          },
          "metadata": {},
          "execution_count": 33
        }
      ]
    },
    {
      "cell_type": "markdown",
      "source": [
        "Analysis:\n",
        "\n",
        "Chicago has the highest average humidity, at around 60.09%.\n",
        "Los Angeles, San Diego, and Phoenix have very similar humidity, ranging from 60.07% to 60.05%.\n",
        "Houston, Dallas, and San Antonio have slightly lower average humidity again, with values around 59.97% to 59.93%.\n"
      ],
      "metadata": {
        "id": "LG3a5YUfz0Tf"
      }
    },
    {
      "cell_type": "markdown",
      "source": [
        "### Average rainfall in the city of USA\n"
      ],
      "metadata": {
        "id": "N7OzscWtz36i"
      }
    },
    {
      "cell_type": "code",
      "source": [
        "group_temp = df.groupby('location')\n",
        "loc_temp = group_temp['precipitation'].agg('mean')\n",
        "loc_temp.sort_values(ascending=True)"
      ],
      "metadata": {
        "colab": {
          "base_uri": "https://localhost:8080/",
          "height": 429
        },
        "id": "7b759ZoAzaAp",
        "outputId": "fbf80622-8ade-452c-96c7-daad9e7ed404"
      },
      "execution_count": null,
      "outputs": [
        {
          "output_type": "execute_result",
          "data": {
            "text/plain": [
              "location\n",
              "San Jose        4.987398\n",
              "New York        4.993057\n",
              "Dallas          4.997508\n",
              "Houston         4.997757\n",
              "Chicago         5.003164\n",
              "Los Angeles     5.004491\n",
              "San Diego       5.006593\n",
              "San Antonio     5.008091\n",
              "Philadelphia    5.008561\n",
              "Phoenix         6.087485\n",
              "Name: precipitation, dtype: float64"
            ],
            "text/html": [
              "<div>\n",
              "<style scoped>\n",
              "    .dataframe tbody tr th:only-of-type {\n",
              "        vertical-align: middle;\n",
              "    }\n",
              "\n",
              "    .dataframe tbody tr th {\n",
              "        vertical-align: top;\n",
              "    }\n",
              "\n",
              "    .dataframe thead th {\n",
              "        text-align: right;\n",
              "    }\n",
              "</style>\n",
              "<table border=\"1\" class=\"dataframe\">\n",
              "  <thead>\n",
              "    <tr style=\"text-align: right;\">\n",
              "      <th></th>\n",
              "      <th>precipitation</th>\n",
              "    </tr>\n",
              "    <tr>\n",
              "      <th>location</th>\n",
              "      <th></th>\n",
              "    </tr>\n",
              "  </thead>\n",
              "  <tbody>\n",
              "    <tr>\n",
              "      <th>San Jose</th>\n",
              "      <td>4.987398</td>\n",
              "    </tr>\n",
              "    <tr>\n",
              "      <th>New York</th>\n",
              "      <td>4.993057</td>\n",
              "    </tr>\n",
              "    <tr>\n",
              "      <th>Dallas</th>\n",
              "      <td>4.997508</td>\n",
              "    </tr>\n",
              "    <tr>\n",
              "      <th>Houston</th>\n",
              "      <td>4.997757</td>\n",
              "    </tr>\n",
              "    <tr>\n",
              "      <th>Chicago</th>\n",
              "      <td>5.003164</td>\n",
              "    </tr>\n",
              "    <tr>\n",
              "      <th>Los Angeles</th>\n",
              "      <td>5.004491</td>\n",
              "    </tr>\n",
              "    <tr>\n",
              "      <th>San Diego</th>\n",
              "      <td>5.006593</td>\n",
              "    </tr>\n",
              "    <tr>\n",
              "      <th>San Antonio</th>\n",
              "      <td>5.008091</td>\n",
              "    </tr>\n",
              "    <tr>\n",
              "      <th>Philadelphia</th>\n",
              "      <td>5.008561</td>\n",
              "    </tr>\n",
              "    <tr>\n",
              "      <th>Phoenix</th>\n",
              "      <td>6.087485</td>\n",
              "    </tr>\n",
              "  </tbody>\n",
              "</table>\n",
              "</div><br><label><b>dtype:</b> float64</label>"
            ]
          },
          "metadata": {},
          "execution_count": 34
        }
      ]
    },
    {
      "cell_type": "markdown",
      "source": [
        "Analysis:\n",
        "- Phoenix has the highest average rainfall, at around 6.09 mm.\n",
        "- San Jose, New York, Dallas, Houston and Chicago had almost similar average rainfall, ranging from 4.99 mm to 5.00 mm.\n",
        "- Philadelphia recorded a slightly higher average rainfall, at around 5.01 mm."
      ],
      "metadata": {
        "id": "LTS9FKROz97C"
      }
    },
    {
      "cell_type": "markdown",
      "source": [
        "### The average wind speed in cities in the USA."
      ],
      "metadata": {
        "id": "JCrqvDJE0CJe"
      }
    },
    {
      "cell_type": "code",
      "source": [
        "group_temp = df.groupby('location')\n",
        "loc_temp = group_temp['wind'].agg('mean')\n",
        "loc_temp.sort_values(ascending=False)"
      ],
      "metadata": {
        "colab": {
          "base_uri": "https://localhost:8080/",
          "height": 429
        },
        "id": "iVp4WPS8z5wW",
        "outputId": "e1c1508d-f2cb-4201-c6bb-480b9878419d"
      },
      "execution_count": null,
      "outputs": [
        {
          "output_type": "execute_result",
          "data": {
            "text/plain": [
              "location\n",
              "San Diego       15.037633\n",
              "Los Angeles     15.035120\n",
              "Dallas          15.022001\n",
              "Chicago         14.999501\n",
              "Philadelphia    14.990663\n",
              "Houston         14.989935\n",
              "New York        14.989398\n",
              "Phoenix         14.983904\n",
              "San Jose        14.971369\n",
              "San Antonio     14.956579\n",
              "Name: wind, dtype: float64"
            ],
            "text/html": [
              "<div>\n",
              "<style scoped>\n",
              "    .dataframe tbody tr th:only-of-type {\n",
              "        vertical-align: middle;\n",
              "    }\n",
              "\n",
              "    .dataframe tbody tr th {\n",
              "        vertical-align: top;\n",
              "    }\n",
              "\n",
              "    .dataframe thead th {\n",
              "        text-align: right;\n",
              "    }\n",
              "</style>\n",
              "<table border=\"1\" class=\"dataframe\">\n",
              "  <thead>\n",
              "    <tr style=\"text-align: right;\">\n",
              "      <th></th>\n",
              "      <th>wind</th>\n",
              "    </tr>\n",
              "    <tr>\n",
              "      <th>location</th>\n",
              "      <th></th>\n",
              "    </tr>\n",
              "  </thead>\n",
              "  <tbody>\n",
              "    <tr>\n",
              "      <th>San Diego</th>\n",
              "      <td>15.037633</td>\n",
              "    </tr>\n",
              "    <tr>\n",
              "      <th>Los Angeles</th>\n",
              "      <td>15.035120</td>\n",
              "    </tr>\n",
              "    <tr>\n",
              "      <th>Dallas</th>\n",
              "      <td>15.022001</td>\n",
              "    </tr>\n",
              "    <tr>\n",
              "      <th>Chicago</th>\n",
              "      <td>14.999501</td>\n",
              "    </tr>\n",
              "    <tr>\n",
              "      <th>Philadelphia</th>\n",
              "      <td>14.990663</td>\n",
              "    </tr>\n",
              "    <tr>\n",
              "      <th>Houston</th>\n",
              "      <td>14.989935</td>\n",
              "    </tr>\n",
              "    <tr>\n",
              "      <th>New York</th>\n",
              "      <td>14.989398</td>\n",
              "    </tr>\n",
              "    <tr>\n",
              "      <th>Phoenix</th>\n",
              "      <td>14.983904</td>\n",
              "    </tr>\n",
              "    <tr>\n",
              "      <th>San Jose</th>\n",
              "      <td>14.971369</td>\n",
              "    </tr>\n",
              "    <tr>\n",
              "      <th>San Antonio</th>\n",
              "      <td>14.956579</td>\n",
              "    </tr>\n",
              "  </tbody>\n",
              "</table>\n",
              "</div><br><label><b>dtype:</b> float64</label>"
            ]
          },
          "metadata": {},
          "execution_count": 35
        }
      ]
    },
    {
      "cell_type": "markdown",
      "source": [
        "Analysis:\n",
        "- San Diego has the highest average wind speed, at about 15.04 km/h.\n",
        "- Los Angeles has almost the same wind speed as San Diego, at around 15.04 km/h.\n",
        "- Houston, New York and Phoenix had almost identical average wind speeds, ranging from about 14.99 km/h to 14.98 km/h.\n",
        "- San Jose and San Antonio recorded the lowest average wind speeds, at around 14.97 km/h and 14.96 km/h respectively.\n"
      ],
      "metadata": {
        "id": "csNbFUNy0H7V"
      }
    },
    {
      "cell_type": "markdown",
      "source": [
        "### Hottest, coldest and highest rainfall temperatures\n"
      ],
      "metadata": {
        "id": "DkQQrHC00OKB"
      }
    },
    {
      "cell_type": "code",
      "source": [
        "#Hottest weather\n",
        "hot_temp = df.loc[df['temp'].idxmax()]\n",
        "print('Hottest weather:\\n', hot_temp)\n",
        "\n",
        "# Cold weather\n",
        "cold_temp = df.loc[df['temp'].idxmin()]\n",
        "print('\\nCold weather:\\n', cold_temp)\n",
        "\n",
        "# Humid weather\n",
        "wet_day = df.loc[df['precipitation'].idxmax()]\n",
        "print('\\nHumid Weather:\\n', wet_day)"
      ],
      "metadata": {
        "colab": {
          "base_uri": "https://localhost:8080/"
        },
        "id": "iNkxOkIS0E2b",
        "outputId": "3d669e27-e3d9-49a7-cd23-cb7d767902e6"
      },
      "execution_count": null,
      "outputs": [
        {
          "output_type": "stream",
          "name": "stdout",
          "text": [
            "Hottest weather:\n",
            " location                    New York\n",
            "date             2024-05-16 14:31:50\n",
            "temp                       39.999801\n",
            "humidity                   35.418345\n",
            "precipitation               6.574819\n",
            "wind                       20.988972\n",
            "Name: 899115, dtype: object\n",
            "\n",
            "Cold weather:\n",
            " location                     Phoenix\n",
            "date             2024-01-12 20:20:14\n",
            "temp                      -19.969311\n",
            "humidity                   52.217649\n",
            "precipitation               0.554449\n",
            "wind                        21.77262\n",
            "Name: 360894, dtype: object\n",
            "\n",
            "Humid Weather:\n",
            " location                     Phoenix\n",
            "date             2024-01-02 00:58:36\n",
            "temp                       -0.125291\n",
            "humidity                   79.288523\n",
            "precipitation              14.971583\n",
            "wind                       22.641603\n",
            "Name: 807907, dtype: object\n"
          ]
        }
      ]
    },
    {
      "cell_type": "markdown",
      "source": [
        "Information:\n",
        "- Hot Weather: On 16 May 2024, in New York, temperatures reached nearly 40°C with 35% humidity. Despite the very high temperatures, the humidity was relatively low, indicating dry hot conditions. Measured precipitation was quite low (6.57mm) and winds were quite strong (20.99 km/h).\n",
        "\n",
        "- Cold Weather: On 12 January 2024, in Phoenix, the extreme low temperature reached -19.97°C. Despite the extreme temperatures, the relative humidity (52%) and precipitation (0.55mm) were not very significant. Winds are quite strong (21.77 km/h).\n",
        "\n",
        "- Humid Weather: On 2 January 2024, in Phoenix, the humidity reached 79%, which is very high, indicating humid air conditions. However, the temperature at that time was not very cold (-0.13°C) and despite the low temperature, precipitation was quite high (14.97mm).\n"
      ],
      "metadata": {
        "id": "y3yX0T0t0Xhv"
      }
    },
    {
      "cell_type": "markdown",
      "source": [
        "### Average Percentage Humidity per month\n"
      ],
      "metadata": {
        "id": "9uGKDY4M0dUS"
      }
    },
    {
      "cell_type": "code",
      "source": [
        "df['month'] = df['date'].dt.to_period('M')\n",
        "monthly_humi = df.groupby('month')['humidity'].mean()\n",
        "monthly_humi"
      ],
      "metadata": {
        "colab": {
          "base_uri": "https://localhost:8080/",
          "height": 272
        },
        "id": "uydYgYVg0QiS",
        "outputId": "055e67fa-9d73-455d-e4e9-876759e69590"
      },
      "execution_count": null,
      "outputs": [
        {
          "output_type": "execute_result",
          "data": {
            "text/plain": [
              "month\n",
              "2024-01    60.018150\n",
              "2024-02    60.070992\n",
              "2024-03    59.986059\n",
              "2024-04    60.011225\n",
              "2024-05    60.028458\n",
              "Freq: M, Name: humidity, dtype: float64"
            ],
            "text/html": [
              "<div>\n",
              "<style scoped>\n",
              "    .dataframe tbody tr th:only-of-type {\n",
              "        vertical-align: middle;\n",
              "    }\n",
              "\n",
              "    .dataframe tbody tr th {\n",
              "        vertical-align: top;\n",
              "    }\n",
              "\n",
              "    .dataframe thead th {\n",
              "        text-align: right;\n",
              "    }\n",
              "</style>\n",
              "<table border=\"1\" class=\"dataframe\">\n",
              "  <thead>\n",
              "    <tr style=\"text-align: right;\">\n",
              "      <th></th>\n",
              "      <th>humidity</th>\n",
              "    </tr>\n",
              "    <tr>\n",
              "      <th>month</th>\n",
              "      <th></th>\n",
              "    </tr>\n",
              "  </thead>\n",
              "  <tbody>\n",
              "    <tr>\n",
              "      <th>2024-01</th>\n",
              "      <td>60.018150</td>\n",
              "    </tr>\n",
              "    <tr>\n",
              "      <th>2024-02</th>\n",
              "      <td>60.070992</td>\n",
              "    </tr>\n",
              "    <tr>\n",
              "      <th>2024-03</th>\n",
              "      <td>59.986059</td>\n",
              "    </tr>\n",
              "    <tr>\n",
              "      <th>2024-04</th>\n",
              "      <td>60.011225</td>\n",
              "    </tr>\n",
              "    <tr>\n",
              "      <th>2024-05</th>\n",
              "      <td>60.028458</td>\n",
              "    </tr>\n",
              "  </tbody>\n",
              "</table>\n",
              "</div><br><label><b>dtype:</b> float64</label>"
            ]
          },
          "metadata": {},
          "execution_count": 20
        }
      ]
    },
    {
      "cell_type": "markdown",
      "source": [
        "Information:\n",
        "- Humidity is relatively stable: The average monthly humidity ranges from 59.99% to 60.07%, showing little variation between months.\n",
        "- No significant trends: The data shows almost constant humidity, with no notable decreases or increases throughout the five-month period analysed.\n",
        "\n"
      ],
      "metadata": {
        "id": "hrG7GHPH0jVa"
      }
    },
    {
      "cell_type": "markdown",
      "source": [
        "### Average monthly wind speed\n"
      ],
      "metadata": {
        "id": "WJnCyYuW0nDw"
      }
    },
    {
      "cell_type": "code",
      "source": [
        "df['month'] = df['date'].dt.to_period('M')\n",
        "monthly_wind = df.groupby('month')['wind'].mean()\n",
        "monthly_wind"
      ],
      "metadata": {
        "colab": {
          "base_uri": "https://localhost:8080/",
          "height": 272
        },
        "id": "QtnN6R0Y0gJZ",
        "outputId": "c85f4eac-cb93-4eb9-fe86-2a72ab7206d9"
      },
      "execution_count": null,
      "outputs": [
        {
          "output_type": "execute_result",
          "data": {
            "text/plain": [
              "month\n",
              "2024-01    14.983148\n",
              "2024-02    14.998843\n",
              "2024-03    15.031220\n",
              "2024-04    14.986775\n",
              "2024-05    14.980563\n",
              "Freq: M, Name: wind, dtype: float64"
            ],
            "text/html": [
              "<div>\n",
              "<style scoped>\n",
              "    .dataframe tbody tr th:only-of-type {\n",
              "        vertical-align: middle;\n",
              "    }\n",
              "\n",
              "    .dataframe tbody tr th {\n",
              "        vertical-align: top;\n",
              "    }\n",
              "\n",
              "    .dataframe thead th {\n",
              "        text-align: right;\n",
              "    }\n",
              "</style>\n",
              "<table border=\"1\" class=\"dataframe\">\n",
              "  <thead>\n",
              "    <tr style=\"text-align: right;\">\n",
              "      <th></th>\n",
              "      <th>wind</th>\n",
              "    </tr>\n",
              "    <tr>\n",
              "      <th>month</th>\n",
              "      <th></th>\n",
              "    </tr>\n",
              "  </thead>\n",
              "  <tbody>\n",
              "    <tr>\n",
              "      <th>2024-01</th>\n",
              "      <td>14.983148</td>\n",
              "    </tr>\n",
              "    <tr>\n",
              "      <th>2024-02</th>\n",
              "      <td>14.998843</td>\n",
              "    </tr>\n",
              "    <tr>\n",
              "      <th>2024-03</th>\n",
              "      <td>15.031220</td>\n",
              "    </tr>\n",
              "    <tr>\n",
              "      <th>2024-04</th>\n",
              "      <td>14.986775</td>\n",
              "    </tr>\n",
              "    <tr>\n",
              "      <th>2024-05</th>\n",
              "      <td>14.980563</td>\n",
              "    </tr>\n",
              "  </tbody>\n",
              "</table>\n",
              "</div><br><label><b>dtype:</b> float64</label>"
            ]
          },
          "metadata": {},
          "execution_count": 21
        }
      ]
    },
    {
      "cell_type": "markdown",
      "source": [
        "Information:\n",
        "- Wind speed is stable: The average wind speed per month varied slightly between 14.98 km/h to 15.03 km/h, indicating wind stability during the period analysed.\n",
        "- No significant fluctuations: The wind speed data shows consistency without any drastic changes from month to month.\n"
      ],
      "metadata": {
        "id": "hpDdoQRi0r1t"
      }
    },
    {
      "cell_type": "markdown",
      "source": [
        "## Visualisation Data"
      ],
      "metadata": {
        "id": "9Jgg1_oa0wWN"
      }
    },
    {
      "cell_type": "markdown",
      "source": [
        "### Visualization Bar"
      ],
      "metadata": {
        "id": "i8fC9Idh0zBh"
      }
    },
    {
      "cell_type": "code",
      "source": [
        "# Import Library\n",
        "import pandas as pd\n",
        "import numpy as np\n",
        "import matplotlib.pyplot as plt\n",
        "import seaborn as sns\n",
        "import warnings\n",
        "warnings.filterwarnings('ignore')"
      ],
      "metadata": {
        "id": "i_hyiCAkkNWv"
      },
      "execution_count": null,
      "outputs": []
    },
    {
      "cell_type": "code",
      "source": [
        "# Bar graph\n",
        "\n",
        "plt.figure(figsize=(8,4))\n",
        "sns.barplot(data=df, x='location', y='temp', palette='viridis', estimator='mean') #\n",
        "plt.title(f'Bar Plot location')\n",
        "plt.xlabel('location')\n",
        "plt.ylabel('temp')\n",
        "plt.tight_layout()\n",
        "plt.xticks(rotation=90)\n",
        "plt.show()"
      ],
      "metadata": {
        "colab": {
          "base_uri": "https://localhost:8080/",
          "height": 477
        },
        "id": "vIWcPAVy0uuI",
        "outputId": "5c459340-5794-43c6-b55a-a2bc2cfd6f89"
      },
      "execution_count": null,
      "outputs": [
        {
          "output_type": "display_data",
          "data": {
            "text/plain": [
              "<Figure size 800x400 with 1 Axes>"
            ],
            "image/png": "[encoded data removed]"
          },
          "metadata": {}
        }
      ]
    },
    {
      "cell_type": "markdown",
      "source": [
        "Information:\n",
        "- The data distribution in each city is flat at 13 C temp, except Phonix city with an average temperature of 12 C.\n"
      ],
      "metadata": {
        "id": "T56DbcQP04L-"
      }
    },
    {
      "cell_type": "markdown",
      "source": [
        "### Visualization Line Chart"
      ],
      "metadata": {
        "id": "Rq7kHqLQ07ei"
      }
    },
    {
      "cell_type": "code",
      "source": [
        "import seaborn as sns\n",
        "import matplotlib.pyplot as plt\n",
        "\n",
        "# Set theme\n",
        "sns.set_theme(style='darkgrid')\n",
        "\n",
        "# Set figure size\n",
        "plt.figure(figsize=(8,5))\n",
        "\n",
        "# Draw line plot\n",
        "sns.lineplot(\n",
        "    data=df,\n",
        "    x='location',\n",
        "    y='temp',\n",
        "    palette='viridis',\n",
        "    estimator='mean',  # Calculate the average if there are multiple values per year\n",
        "    sort=True  # Ensure the years are sorted\n",
        ")\n",
        "\n",
        "# Set plot title and labels\n",
        "plt.title('Temperature in USA Cities')\n",
        "plt.xlabel('Location')\n",
        "plt.ylabel('Temperature (°C)')\n",
        "\n",
        "# Rotate x-axis labels for better readability\n",
        "plt.xticks(rotation=90)\n",
        "\n",
        "# Show the plot\n",
        "plt.show()\n"
      ],
      "metadata": {
        "colab": {
          "base_uri": "https://localhost:8080/",
          "height": 574
        },
        "id": "NTexf96_00zc",
        "outputId": "5ea8bc64-bd96-435c-c62c-ea9fba9d1b4e"
      },
      "execution_count": null,
      "outputs": [
        {
          "output_type": "display_data",
          "data": {
            "text/plain": [
              "<Figure size 800x500 with 1 Axes>"
            ],
            "image/png": "[encoded data removed]"
          },
          "metadata": {}
        }
      ]
    },
    {
      "cell_type": "markdown",
      "source": [
        "Information:\n",
        "- Temperatures were evenly distributed at 15 centigrade for 8 out of 10 cities.\n",
        "- Temperatures begin to drop in the city of Los Angeles and peak in the city of Phoenix with an average temperature of 13 C.\n"
      ],
      "metadata": {
        "id": "k9fzccOy1B5j"
      }
    },
    {
      "cell_type": "markdown",
      "source": [
        "Information:\n",
        "- Rainfall in USA cities mostly at 5 mm\n",
        "- Data is increasing for rainfall in the cities of los angeles and phoenix\n",
        "- The city of Phoenix experiences very high rainfall compared to other cities.\n"
      ],
      "metadata": {
        "id": "eNZB0PSl1Gm7"
      }
    },
    {
      "cell_type": "code",
      "source": [
        "# Set theme\n",
        "sns.set_theme(style='darkgrid')\n",
        "\n",
        "# Set figure size\n",
        "plt.figure(figsize=(8,5))\n",
        "\n",
        "# Draw line plot\n",
        "sns.lineplot(\n",
        "    data=df,\n",
        "    x='location',\n",
        "    y='wind',\n",
        "    palette='viridis',\n",
        "    estimator='mean',  # Calculate the average if there are multiple values per year\n",
        "    sort=True  # Ensure the years are sorted\n",
        ")\n",
        "\n",
        "# Set plot title and labels\n",
        "plt.title('Wind Speed (Km) in USA Cities')\n",
        "plt.xlabel('USA City')\n",
        "plt.ylabel('Wind Frequency')\n",
        "\n",
        "# Rotate x-axis labels for better readability\n",
        "plt.xticks(rotation=90)\n",
        "\n",
        "# Show the plot\n",
        "plt.show()"
      ],
      "metadata": {
        "colab": {
          "base_uri": "https://localhost:8080/",
          "height": 574
        },
        "id": "3d9adnk41EVl",
        "outputId": "f2054388-d7af-4e1e-aa94-4a40d5d7965e"
      },
      "execution_count": null,
      "outputs": [
        {
          "output_type": "display_data",
          "data": {
            "text/plain": [
              "<Figure size 800x500 with 1 Axes>"
            ],
            "image/png": "[encoded data removed]"
          },
          "metadata": {}
        }
      ]
    },
    {
      "cell_type": "markdown",
      "source": [
        "Information:\n",
        "- The wind speed graph fluctuates, starting with San Diego with the highest wind speed of 15 km.\n",
        "- The lowest wind speed is in the city of San Anthonio with 14.9 km\n",
        "- The wind speed decreased again in the city of Phoenix with a speed of 14.9 km\n"
      ],
      "metadata": {
        "id": "0nS7Oyym1NQC"
      }
    },
    {
      "cell_type": "markdown",
      "source": [
        "### Histogram Visualization"
      ],
      "metadata": {
        "id": "eNposImI1QFg"
      }
    },
    {
      "cell_type": "code",
      "source": [
        "# Select numerical data\n",
        "num_col = df.select_dtypes(include=['int64', 'float64'])\n",
        "# Create visualization plots\n",
        "fig, axes = plt.subplots(2, 2, figsize=(12, 6))\n",
        "\n",
        "# Convert the visualization into 2D\n",
        "axes = axes.flatten()\n",
        "\n",
        "for i, col in enumerate(num_col):\n",
        "    sns.histplot(data=df, x=col, kde=True, ax=axes[i], palette='viridis', multiple='stack')\n",
        "    axes[i].set_title(f'Distribution of {col}', fontsize=12)\n",
        "\n",
        "# Remove extra empty subplots if there are fewer numerical columns\n",
        "for i in range(len(num_col), 2 * 2):\n",
        "    fig.delaxes(axes[i])\n",
        "\n",
        "plt.tight_layout()\n",
        "plt.show()"
      ],
      "metadata": {
        "colab": {
          "base_uri": "https://localhost:8080/",
          "height": 601
        },
        "id": "C7C3A5NE1K5-",
        "outputId": "74564a2c-10dd-4579-a127-346235cc0017"
      },
      "execution_count": null,
      "outputs": [
        {
          "output_type": "display_data",
          "data": {
            "text/plain": [
              "<Figure size 1200x600 with 4 Axes>"
            ],
            "image/png": "[encoded data removed]"
          },
          "metadata": {}
        }
      ]
    },
    {
      "cell_type": "code",
      "source": [
        "sns.set_theme(style='darkgrid')\n",
        "\n",
        "plt.figure(figsize=(8,5))\n",
        "sns.histplot(data=df, x='temp', bins=10, kde=True, color='darkblue')\n",
        "plt.title(f\"Distribution data Temperature'\")\n",
        "plt.xlabel('Temperature')\n",
        "plt.ylabel('Frequency')\n",
        "plt.show()"
      ],
      "metadata": {
        "colab": {
          "base_uri": "https://localhost:8080/",
          "height": 496
        },
        "id": "YAuUsa_m1SBQ",
        "outputId": "090ab8f6-f6bc-48c8-8363-f5ca82084c49"
      },
      "execution_count": null,
      "outputs": [
        {
          "output_type": "display_data",
          "data": {
            "text/plain": [
              "<Figure size 800x500 with 1 Axes>"
            ],
            "image/png": "[encoded data removed]"
          },
          "metadata": {}
        }
      ]
    },
    {
      "cell_type": "markdown",
      "source": [
        "Information:\n",
        "- Temperature data is fairly well distributed with a range of 0 - 40 Celsius weather temperatures.\n",
        "- there are some cities that have mines and snowy weather with temperatures of -10\n",
        "\n"
      ],
      "metadata": {
        "id": "Q_CaYRcX1Ydr"
      }
    },
    {
      "cell_type": "code",
      "source": [
        "# Set theme\n",
        "sns.set_theme(style='darkgrid')\n",
        "\n",
        "# Prepare data and parameters\n",
        "columns_to_plot = ['humidity', 'precipitation', 'wind']\n",
        "titles = [\"Distribution of humidity data\", \"Distribution of precipitation data\", \"Distribution of wind data\"]\n",
        "\n",
        "# Set figure size\n",
        "plt.figure(figsize=(15, 5))\n",
        "\n",
        "# Loop to create subplots\n",
        "for i, column in enumerate(columns_to_plot):\n",
        "    plt.subplot(1, 3, i + 1)  # 1 row, 3 columns, subplot i+1\n",
        "    sns.histplot(data=df, x=column, bins=10, kde=True, color='darkblue')\n",
        "    plt.title(titles[i])  # Set title from the titles array\n",
        "    plt.xlabel(column)\n",
        "    plt.ylabel('Frequency Score')\n",
        "\n",
        "# Display plot\n",
        "plt.tight_layout()  # Ensure no overlap between subplots\n",
        "plt.show()"
      ],
      "metadata": {
        "colab": {
          "base_uri": "https://localhost:8080/",
          "height": 431
        },
        "id": "MBS3VSS11Vq3",
        "outputId": "09e775c6-e0e4-482a-8ed8-fa28f03273d0"
      },
      "execution_count": null,
      "outputs": [
        {
          "output_type": "display_data",
          "data": {
            "text/plain": [
              "<Figure size 1500x500 with 3 Axes>"
            ],
            "image/png": "[encoded data removed]"
          },
          "metadata": {}
        }
      ]
    },
    {
      "cell_type": "markdown",
      "source": [
        "Information:\n",
        "- Data on humidity is well distributed, almost all cities in the USA experience humidity with a percentage of 30 - 90.\n",
        "- The distribution of data on precipitation is less well distributed, the data is piled up in the range 0.0 - 10. Most cities get rainfall below 10 mm.  High rainfall occurs in some cities with a range of 10 - 15 mm.\n",
        "- Wind data distribution is evenly distributed with a range of 0 - 30 km wind speed."
      ],
      "metadata": {
        "id": "ng65xye41dLk"
      }
    },
    {
      "cell_type": "code",
      "source": [],
      "metadata": {
        "id": "GLRFH97f1aTB"
      },
      "execution_count": null,
      "outputs": []
    }
  ]
}